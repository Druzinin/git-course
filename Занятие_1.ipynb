{
  "cells": [
    {
      "cell_type": "markdown",
      "source": [
        "# Интересные задачи"
      ],
      "metadata": {
        "id": "D2g3wDGigEkI"
      }
    },
    {
      "cell_type": "markdown",
      "source": [
        "\n",
        "## Задание 1\n",
        "Создайте массив размером 10x10, заполненный случайными значениями от 1 до 100. Найдите максимальное значение в каждой строке и сохраните его в новый массив.\n",
        "\n",
        "axis=0 : применить вычисление «по столбцам»<br>\n",
        "axis=1 : применить вычисление «построчно»"
      ],
      "metadata": {
        "id": "0EG59g1kgGc9"
      }
    },
    {
      "cell_type": "code",
      "execution_count": 12,
      "metadata": {
        "id": "UMeAW8fwgD1o",
        "colab": {
          "base_uri": "https://localhost:8080/"
        },
        "outputId": "e3c76168-2782-40fe-8b82-f052e4080256"
      },
      "outputs": [
        {
          "output_type": "stream",
          "name": "stdout",
          "text": [
            "[[ 18  24  42  83   6  82  82  11  46  35]\n",
            " [ 67  65  97  49  89  11  65  29  93  57]\n",
            " [ 28  35  37  66  74  62  54  69  23  48]\n",
            " [  9  70  14  96  52  62  70  97  96  71]\n",
            " [ 46  71  85  12  83  70  19  99  45  69]\n",
            " [ 29  49  31  72  27  88  22  21 100   1]\n",
            " [ 62  21  77  42  88  23  49  49  83  41]\n",
            " [ 72  69  19  66  34  13  27   2  84  74]\n",
            " [ 69   2   4  21  21  53  29  60  33  21]\n",
            " [ 74  21  14  39  99  28   9  87  53   2]]\n",
            "\n",
            "[83, 97, 74, 97, 99, 100, 88, 84, 69, 99]\n"
          ]
        }
      ],
      "source": [
        "from random import randint\n",
        "from numpy import matrix\n",
        "array = [[randint(1, 100) for _ in range(10)] for _ in range(10)]\n",
        "new_array = list(map(max, array))\n",
        "print(matrix(array))\n",
        "print()\n",
        "print(new_array)"
      ]
    },
    {
      "cell_type": "markdown",
      "source": [
        "## Задание 2\n",
        "Создайте двумерный массив размером 5x5, заполненный случайными значениями от 1 до 10. Найдите сумму элементов массива, которые делятся на 3 без остатка. "
      ],
      "metadata": {
        "id": "U4uq7fKAgI9T"
      }
    },
    {
      "cell_type": "code",
      "source": [
        "from random import randint\n",
        "from numpy import matrix\n",
        "array = [[randint(1, 10) for _ in range(5)] for _ in range(5)]\n",
        "print(matrix(array))\n",
        "print(sum(filter(lambda x: x % 3 == 0, sum(array, []))))"
      ],
      "metadata": {
        "id": "TOHW37ZXgJUf"
      },
      "execution_count": null,
      "outputs": []
    },
    {
      "cell_type": "markdown",
      "source": [
        "## Задание 3\n",
        "Создайте массив размером 20x20, заполненный случайными значениями от 1 до 100. Найдите количество элементов массива, которые находятся в интервале от 30 до 70 включительно."
      ],
      "metadata": {
        "id": "MdeZF8XmgJs1"
      }
    },
    {
      "cell_type": "code",
      "source": [
        "from random import randint\n",
        "from numpy import matrix\n",
        "array = [[randint(1, 100) for _ in range(20)] for _ in range(20)]\n",
        "print(matrix(array))\n",
        "print(len(tuple(filter(lambda x: 30 < x < 71, sum(array, [])))))"
      ],
      "metadata": {
        "id": "M5zN-0gMgLHh"
      },
      "execution_count": null,
      "outputs": []
    },
    {
      "cell_type": "markdown",
      "source": [
        "## Задание 4\n",
        "Создайте массив размером 10x10, заполненный случайными значениями от 1 до 100. Замените все четные значения в массиве на 0."
      ],
      "metadata": {
        "id": "EH0DUuimgLiz"
      }
    },
    {
      "cell_type": "code",
      "source": [
        "from random import randint\n",
        "from numpy import matrix\n",
        "array = [[randint(1, 100) for _ in range(10)] for _ in range(10)]\n",
        "print(matrix(array))\n",
        "print()\n",
        "array = [list(map(lambda x: x if x % 2 else 0, i)) for i in array]\n",
        "print(matrix(array))"
      ],
      "metadata": {
        "id": "X-Hp0_SSgSYp",
        "colab": {
          "base_uri": "https://localhost:8080/"
        },
        "outputId": "f9d4edd1-d900-434b-88b8-466c7ec107f5"
      },
      "execution_count": 15,
      "outputs": [
        {
          "output_type": "stream",
          "name": "stdout",
          "text": [
            "[[97 82 41 33 13 57 17  8 57 61]\n",
            " [43  9 83 44 84 28 71 83 37 77]\n",
            " [73 58 83 38 90 87 63 51 38 24]\n",
            " [31 28 24 80 99 76 97 60 31 29]\n",
            " [34 76 60  6 59 11 20 39 41 67]\n",
            " [18 90 38 63 90 27 23  7 55 65]\n",
            " [88 40 54 53 43 89 92 30  5 42]\n",
            " [58 65 11 82 14 27 30 59  4 80]\n",
            " [99 24 22 44 14 48 42 90 18 36]\n",
            " [ 1  7  7 12 39 68 53  8 45 99]]\n",
            "\n",
            "[[97  0 41 33 13 57 17  0 57 61]\n",
            " [43  9 83  0  0  0 71 83 37 77]\n",
            " [73  0 83  0  0 87 63 51  0  0]\n",
            " [31  0  0  0 99  0 97  0 31 29]\n",
            " [ 0  0  0  0 59 11  0 39 41 67]\n",
            " [ 0  0  0 63  0 27 23  7 55 65]\n",
            " [ 0  0  0 53 43 89  0  0  5  0]\n",
            " [ 0 65 11  0  0 27  0 59  0  0]\n",
            " [99  0  0  0  0  0  0  0  0  0]\n",
            " [ 1  7  7  0 39  0 53  0 45 99]]\n"
          ]
        }
      ]
    },
    {
      "cell_type": "markdown",
      "source": [
        "## Задание 5\n",
        "Создайте двумерный массив размером 6x6, заполненный случайными значениями от 1 до 10. Замените все значения, которые меньше среднего арифметического значения элементов массива, на -1."
      ],
      "metadata": {
        "id": "GH5WyjbbgUMH"
      }
    },
    {
      "cell_type": "code",
      "source": [
        "from random import randint\n",
        "from numpy import matrix\n",
        "array = [[randint(1, 10) for _ in range(6)] for _ in range(6)]\n",
        "print(matrix(array))\n",
        "\n",
        "middle = sum(m) / len(m) if (m := sum(array, [])) else 0.0\n",
        "print(middle)\n",
        "\n",
        "array = [list(map(lambda x: -1 if x < middle else x, i)) for i in array]\n",
        "print(matrix(array))"
      ],
      "metadata": {
        "id": "cCJnxL-YgUje",
        "colab": {
          "base_uri": "https://localhost:8080/"
        },
        "outputId": "d4dc5ad2-e7f0-4764-abbc-a35d16171a42"
      },
      "execution_count": 16,
      "outputs": [
        {
          "output_type": "stream",
          "name": "stdout",
          "text": [
            "[[ 7  8  6  1  9  3]\n",
            " [ 3  7  8  4  6  2]\n",
            " [ 9  7  7  3  1  2]\n",
            " [ 3  6  7  2  8 10]\n",
            " [ 4  5  3  1  9  6]\n",
            " [ 8  4  3  1  1  6]]\n",
            "5.0\n",
            "[[ 7  8  6 -1  9 -1]\n",
            " [-1  7  8 -1  6 -1]\n",
            " [ 9  7  7 -1 -1 -1]\n",
            " [-1  6  7 -1  8 10]\n",
            " [-1  5 -1 -1  9  6]\n",
            " [ 8 -1 -1 -1 -1  6]]\n"
          ]
        }
      ]
    },
    {
      "cell_type": "markdown",
      "source": [
        "## Задание 6\n",
        "Создайте массив размером 8x8, заполненный нулями. Замените значения на 1 в каждой второй строке начиная с первой."
      ],
      "metadata": {
        "id": "9bSnp7GigW76"
      }
    },
    {
      "cell_type": "code",
      "source": [
        "from numpy import matrix\n",
        "array = [[0] * 8] * 8\n",
        "print(matrix(array))\n",
        "print()\n",
        "array = [v if i % 2 else [1] * len(v) for i, v in enumerate(array)]\n",
        "print(matrix(array))"
      ],
      "metadata": {
        "id": "ay4ni0NqgXH9",
        "colab": {
          "base_uri": "https://localhost:8080/"
        },
        "outputId": "ef715f90-957d-47d7-a9b0-480e5ebb9884"
      },
      "execution_count": 17,
      "outputs": [
        {
          "output_type": "stream",
          "name": "stdout",
          "text": [
            "[[0 0 0 0 0 0 0 0]\n",
            " [0 0 0 0 0 0 0 0]\n",
            " [0 0 0 0 0 0 0 0]\n",
            " [0 0 0 0 0 0 0 0]\n",
            " [0 0 0 0 0 0 0 0]\n",
            " [0 0 0 0 0 0 0 0]\n",
            " [0 0 0 0 0 0 0 0]\n",
            " [0 0 0 0 0 0 0 0]]\n",
            "\n",
            "[[1 1 1 1 1 1 1 1]\n",
            " [0 0 0 0 0 0 0 0]\n",
            " [1 1 1 1 1 1 1 1]\n",
            " [0 0 0 0 0 0 0 0]\n",
            " [1 1 1 1 1 1 1 1]\n",
            " [0 0 0 0 0 0 0 0]\n",
            " [1 1 1 1 1 1 1 1]\n",
            " [0 0 0 0 0 0 0 0]]\n"
          ]
        }
      ]
    },
    {
      "cell_type": "markdown",
      "source": [
        "## Задание 7\n",
        "Создайте массив размером 5x5, заполненный случайными значениями от 1 до 10. Найдите значения элементов массива, которые больше среднего значения всех элементов массива."
      ],
      "metadata": {
        "id": "q_ZqYhxXgZR9"
      }
    },
    {
      "cell_type": "code",
      "source": [
        "from random import randint\n",
        "from numpy import matrix\n",
        "array = [[randint(1, 10) for _ in range(5)] for _ in range(5)]\n",
        "print(matrix(array))\n",
        "\n",
        "middle = sum(m) / len(m) if (m := sum(array, [])) else 0.0\n",
        "print(middle)\n",
        "print(*filter(lambda x: x > middle, m))"
      ],
      "metadata": {
        "id": "KfOgHx-rgZh2",
        "colab": {
          "base_uri": "https://localhost:8080/"
        },
        "outputId": "a7353899-f193-48ee-f2ec-b17a1722e9a5"
      },
      "execution_count": 32,
      "outputs": [
        {
          "output_type": "stream",
          "name": "stdout",
          "text": [
            "[[ 8  9  8  4  7]\n",
            " [ 1  1  8  6 10]\n",
            " [ 7  7  5  6 10]\n",
            " [10  4  5  3  5]\n",
            " [ 3  3  2  8 10]]\n",
            "6.0\n",
            "8 9 8 7 8 10 7 7 10 10 8 10\n"
          ]
        }
      ]
    },
    {
      "cell_type": "markdown",
      "source": [
        "## Задание 8\n",
        "Создайте двумерный массив размером 4x4, заполненный случайными значениями от 1 до 10. Найдите сумму элементов на главной диагонали."
      ],
      "metadata": {
        "id": "qWd0MDoNgbsT"
      }
    },
    {
      "cell_type": "code",
      "source": [
        "from random import randint\n",
        "from numpy import matrix\n",
        "array = [[randint(1, 10) for _ in range(4)] for _ in range(4)]\n",
        "print(matrix(array))\n",
        "\n",
        "print(sum(map(lambda x: x[1][x[0]], enumerate(array))))"
      ],
      "metadata": {
        "id": "P4n3GAW9gb6p",
        "colab": {
          "base_uri": "https://localhost:8080/"
        },
        "outputId": "8ce29ad6-8008-4411-bb18-3342ce8713c5"
      },
      "execution_count": 52,
      "outputs": [
        {
          "output_type": "stream",
          "name": "stdout",
          "text": [
            "[[ 3 10  4  6]\n",
            " [ 5  4  5  1]\n",
            " [10  2  6  1]\n",
            " [ 3  1  8  1]]\n",
            "14\n"
          ]
        }
      ]
    },
    {
      "cell_type": "markdown",
      "source": [
        "## Задание 9\n",
        "Создайте двумерный массив размером 3x3, заполненный случайными значениями от 1 до 10. Поверните массив на 90 градусов."
      ],
      "metadata": {
        "id": "REX27qPwgdsR"
      }
    },
    {
      "cell_type": "code",
      "source": [
        "from random import randint\n",
        "from numpy import matrix\n",
        "array = [[randint(1, 10) for _ in range(3)] for _ in range(3)]\n",
        "print(matrix(array))\n",
        "print()\n",
        "print(matrix(list(map(lambda x: x[::-1], zip(*array)))))"
      ],
      "metadata": {
        "id": "BKJ7SoO2gfMa",
        "colab": {
          "base_uri": "https://localhost:8080/"
        },
        "outputId": "f97b4429-a6e0-4968-c89e-d64acc84b2d8"
      },
      "execution_count": 65,
      "outputs": [
        {
          "output_type": "stream",
          "name": "stdout",
          "text": [
            "[[ 9 10  7]\n",
            " [ 2  3  4]\n",
            " [ 6  2  2]]\n",
            "\n",
            "[[ 6  2  9]\n",
            " [ 2  3 10]\n",
            " [ 2  4  7]]\n"
          ]
        }
      ]
    },
    {
      "cell_type": "markdown",
      "source": [
        "## Задание 10\n",
        "Создайте двумерный массив размером 5x5, заполненный случайными значениями от 1 до 10. Найдите индексы элементов, которые равны максимальному значению в массиве. "
      ],
      "metadata": {
        "id": "tCzMIOKtgfqx"
      }
    },
    {
      "cell_type": "code",
      "source": [
        "from random import randint\n",
        "from numpy import matrix\n",
        "\n",
        "array = [[randint(1, 10) for _ in range(5)] for _ in range(5)]\n",
        "print(matrix(array))\n",
        "\n",
        "maximum = max(sum(array, []))\n",
        "print(maximum)\n",
        "\n",
        "for i in range(len(array)):\n",
        "    for j in range(len(array)):\n",
        "        if array[i][j] == maximum:\n",
        "            print((i, j), end=' ')"
      ],
      "metadata": {
        "id": "7DRhBoZtggDi",
        "colab": {
          "base_uri": "https://localhost:8080/"
        },
        "outputId": "ae2c311e-df93-4f1d-9db1-862fd9e2fa19"
      },
      "execution_count": 56,
      "outputs": [
        {
          "output_type": "stream",
          "name": "stdout",
          "text": [
            "[[ 1  2 10  4 10]\n",
            " [ 9  8 10  1  9]\n",
            " [ 6  5  5  3  3]\n",
            " [ 9  2  1  4  8]\n",
            " [ 5  1  9  9  1]]\n",
            "10\n",
            "(0, 2) (0, 4) (1, 2) "
          ]
        }
      ]
    }
  ],
  "metadata": {
    "colab": {
      "provenance": [],
      "authorship_tag": "ABX9TyNzYs3XSVmpQUGe0rcmaEBc"
    },
    "kernelspec": {
      "display_name": "Python 3",
      "name": "python3"
    },
    "language_info": {
      "name": "python"
    }
  },
  "nbformat": 4,
  "nbformat_minor": 0
}