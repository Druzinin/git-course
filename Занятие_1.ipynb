{
  "cells": [
    {
      "cell_type": "markdown",
      "source": [
        "# Интересные задачи"
      ],
      "metadata": {
        "id": "D2g3wDGigEkI"
      }
    },
    {
      "cell_type": "markdown",
      "source": [
        "\n",
        "## Задание 1\n",
        "Создайте массив размером 10x10, заполненный случайными значениями от 1 до 100. Найдите максимальное значение в каждой строке и сохраните его в новый массив.\n",
        "\n",
        "axis=0 : применить вычисление «по столбцам»<br>\n",
        "axis=1 : применить вычисление «построчно»"
      ],
      "metadata": {
        "id": "0EG59g1kgGc9"
      }
    },
    {
      "cell_type": "code",
      "execution_count": 12,
      "metadata": {
        "id": "UMeAW8fwgD1o",
        "colab": {
          "base_uri": "https://localhost:8080/"
        },
        "outputId": "e3c76168-2782-40fe-8b82-f052e4080256"
      },
      "outputs": [
        {
          "output_type": "stream",
          "name": "stdout",
          "text": [
            "[[ 18  24  42  83   6  82  82  11  46  35]\n",
            " [ 67  65  97  49  89  11  65  29  93  57]\n",
            " [ 28  35  37  66  74  62  54  69  23  48]\n",
            " [  9  70  14  96  52  62  70  97  96  71]\n",
            " [ 46  71  85  12  83  70  19  99  45  69]\n",
            " [ 29  49  31  72  27  88  22  21 100   1]\n",
            " [ 62  21  77  42  88  23  49  49  83  41]\n",
            " [ 72  69  19  66  34  13  27   2  84  74]\n",
            " [ 69   2   4  21  21  53  29  60  33  21]\n",
            " [ 74  21  14  39  99  28   9  87  53   2]]\n",
            "\n",
            "[83, 97, 74, 97, 99, 100, 88, 84, 69, 99]\n"
          ]
        }
      ],
      "source": [
        "from random import randint\n",
        "from numpy import matrix\n",
        "array = [[randint(1, 100) for _ in range(10)] for _ in range(10)]\n",
        "new_array = list(map(max, array))\n",
        "print(matrix(array))\n",
        "print()\n",
        "print(new_array)"
      ]
    },
    {
      "cell_type": "markdown",
      "source": [
        "## Задание 2\n",
        "Создайте двумерный массив размером 5x5, заполненный случайными значениями от 1 до 10. Найдите сумму элементов массива, которые делятся на 3 без остатка. "
      ],
      "metadata": {
        "id": "U4uq7fKAgI9T"
      }
    },
    {
      "cell_type": "code",
      "source": [
        "from random import randint\n",
        "from numpy import matrix\n",
        "array = [[randint(1, 10) for _ in range(5)] for _ in range(5)]\n",
        "print(matrix(array))\n",
        "print(sum(filter(lambda x: x % 3 == 0, sum(array, []))))"
      ],
      "metadata": {
        "id": "TOHW37ZXgJUf"
      },
      "execution_count": null,
      "outputs": []
    },
    {
      "cell_type": "markdown",
      "source": [
        "## Задание 3\n",
        "Создайте массив размером 20x20, заполненный случайными значениями от 1 до 100. Найдите количество элементов массива, которые находятся в интервале от 30 до 70 включительно."
      ],
      "metadata": {
        "id": "MdeZF8XmgJs1"
      }
    },
    {
      "cell_type": "code",
      "source": [
        "from random import randint\n",
        "from numpy import matrix\n",
        "array = [[randint(1, 100) for _ in range(20)] for _ in range(20)]\n",
        "print(matrix(array))\n",
        "print(len(tuple(filter(lambda x: 30 < x < 71, sum(array, [])))))"
      ],
      "metadata": {
        "id": "M5zN-0gMgLHh"
      },
      "execution_count": null,
      "outputs": []
    },
    {
      "cell_type": "markdown",
      "source": [
        "## Задание 4\n",
        "Создайте массив размером 10x10, заполненный случайными значениями от 1 до 100. Замените все четные значения в массиве на 0."
      ],
      "metadata": {
        "id": "EH0DUuimgLiz"
      }
    },
    {
      "cell_type": "code",
      "source": [
        "from random import randint\n",
        "from numpy import matrix\n",
        "array = [[randint(1, 100) for _ in range(10)] for _ in range(10)]\n",
        "print(matrix(array))\n",
        "print()\n",
        "array = [list(map(lambda x: x if x % 2 else 0, i)) for i in array]\n",
        "print(matrix(array))"
      ],
      "metadata": {
        "id": "X-Hp0_SSgSYp",
        "colab": {
          "base_uri": "https://localhost:8080/"
        },
        "outputId": "f9d4edd1-d900-434b-88b8-466c7ec107f5"
      },
      "execution_count": 15,
      "outputs": [
        {
          "output_type": "stream",
          "name": "stdout",
          "text": [
            "[[97 82 41 33 13 57 17  8 57 61]\n",
            " [43  9 83 44 84 28 71 83 37 77]\n",
            " [73 58 83 38 90 87 63 51 38 24]\n",
            " [31 28 24 80 99 76 97 60 31 29]\n",
            " [34 76 60  6 59 11 20 39 41 67]\n",
            " [18 90 38 63 90 27 23  7 55 65]\n",
            " [88 40 54 53 43 89 92 30  5 42]\n",
            " [58 65 11 82 14 27 30 59  4 80]\n",
            " [99 24 22 44 14 48 42 90 18 36]\n",
            " [ 1  7  7 12 39 68 53  8 45 99]]\n",
            "\n",
            "[[97  0 41 33 13 57 17  0 57 61]\n",
            " [43  9 83  0  0  0 71 83 37 77]\n",
            " [73  0 83  0  0 87 63 51  0  0]\n",
            " [31  0  0  0 99  0 97  0 31 29]\n",
            " [ 0  0  0  0 59 11  0 39 41 67]\n",
            " [ 0  0  0 63  0 27 23  7 55 65]\n",
            " [ 0  0  0 53 43 89  0  0  5  0]\n",
            " [ 0 65 11  0  0 27  0 59  0  0]\n",
            " [99  0  0  0  0  0  0  0  0  0]\n",
            " [ 1  7  7  0 39  0 53  0 45 99]]\n"
          ]
        }
      ]
    },
    {
      "cell_type": "markdown",
      "source": [
        "## Задание 5\n",
        "Создайте двумерный массив размером 6x6, заполненный случайными значениями от 1 до 10. Замените все значения, которые меньше среднего арифметического значения элементов массива, на -1."
      ],
      "metadata": {
        "id": "GH5WyjbbgUMH"
      }
    },
    {
      "cell_type": "code",
      "source": [
        "from random import randint\n",
        "from numpy import matrix\n",
        "array = [[randint(1, 10) for _ in range(6)] for _ in range(6)]\n",
        "print(matrix(array))\n",
        "\n",
        "middle = sum(m) / len(m) if (m := sum(array, [])) else 0.0\n",
        "print(middle)\n",
        "\n",
        "array = [list(map(lambda x: -1 if x < middle else x, i)) for i in array]\n",
        "print(matrix(array))"
      ],
      "metadata": {
        "id": "cCJnxL-YgUje",
        "colab": {
          "base_uri": "https://localhost:8080/"
        },
        "outputId": "d4dc5ad2-e7f0-4764-abbc-a35d16171a42"
      },
      "execution_count": 16,
      "outputs": [
        {
          "output_type": "stream",
          "name": "stdout",
          "text": [
            "[[ 7  8  6  1  9  3]\n",
            " [ 3  7  8  4  6  2]\n",
            " [ 9  7  7  3  1  2]\n",
            " [ 3  6  7  2  8 10]\n",
            " [ 4  5  3  1  9  6]\n",
            " [ 8  4  3  1  1  6]]\n",
            "5.0\n",
            "[[ 7  8  6 -1  9 -1]\n",
            " [-1  7  8 -1  6 -1]\n",
            " [ 9  7  7 -1 -1 -1]\n",
            " [-1  6  7 -1  8 10]\n",
            " [-1  5 -1 -1  9  6]\n",
            " [ 8 -1 -1 -1 -1  6]]\n"
          ]
        }
      ]
    },
    {
      "cell_type": "markdown",
      "source": [
        "## Задание 6\n",
        "Создайте массив размером 8x8, заполненный нулями. Замените значения на 1 в каждой второй строке начиная с первой."
      ],
      "metadata": {
        "id": "9bSnp7GigW76"
      }
    },
    {
      "cell_type": "code",
      "source": [
        "from numpy import matrix\n",
        "array = [[0] * 8] * 8\n",
        "print(matrix(array))\n",
        "print()\n",
        "array = [v if i % 2 else [1] * len(v) for i, v in enumerate(array)]\n",
        "print(matrix(array))"
      ],
      "metadata": {
        "id": "ay4ni0NqgXH9",
        "colab": {
          "base_uri": "https://localhost:8080/"
        },
        "outputId": "ef715f90-957d-47d7-a9b0-480e5ebb9884"
      },
      "execution_count": 17,
      "outputs": [
        {
          "output_type": "stream",
          "name": "stdout",
          "text": [
            "[[0 0 0 0 0 0 0 0]\n",
            " [0 0 0 0 0 0 0 0]\n",
            " [0 0 0 0 0 0 0 0]\n",
            " [0 0 0 0 0 0 0 0]\n",
            " [0 0 0 0 0 0 0 0]\n",
            " [0 0 0 0 0 0 0 0]\n",
            " [0 0 0 0 0 0 0 0]\n",
            " [0 0 0 0 0 0 0 0]]\n",
            "\n",
            "[[1 1 1 1 1 1 1 1]\n",
            " [0 0 0 0 0 0 0 0]\n",
            " [1 1 1 1 1 1 1 1]\n",
            " [0 0 0 0 0 0 0 0]\n",
            " [1 1 1 1 1 1 1 1]\n",
            " [0 0 0 0 0 0 0 0]\n",
            " [1 1 1 1 1 1 1 1]\n",
            " [0 0 0 0 0 0 0 0]]\n"
          ]
        }
      ]
    },
    {
      "cell_type": "markdown",
      "source": [
        "## Задание 7\n",
        "Создайте массив размером 5x5, заполненный случайными значениями от 1 до 10. Найдите значения элементов массива, которые больше среднего значения всех элементов массива."
      ],
      "metadata": {
        "id": "q_ZqYhxXgZR9"
      }
    },
    {
      "cell_type": "code",
      "source": [
        "from random import randint\n",
        "from numpy import matrix\n",
        "array = [[randint(1, 10) for _ in range(5)] for _ in range(5)]\n",
        "print(matrix(array))\n",
        "\n",
        "middle = sum(m) / len(m) if (m := sum(array, [])) else 0.0\n",
        "print(middle)\n",
        "print(*filter(lambda x: x > middle, m))"
      ],
      "metadata": {
        "id": "KfOgHx-rgZh2",
        "colab": {
          "base_uri": "https://localhost:8080/"
        },
        "outputId": "a7353899-f193-48ee-f2ec-b17a1722e9a5"
      },
      "execution_count": 32,
      "outputs": [
        {
          "output_type": "stream",
          "name": "stdout",
          "text": [
            "[[ 8  9  8  4  7]\n",
            " [ 1  1  8  6 10]\n",
            " [ 7  7  5  6 10]\n",
            " [10  4  5  3  5]\n",
            " [ 3  3  2  8 10]]\n",
            "6.0\n",
            "8 9 8 7 8 10 7 7 10 10 8 10\n"
          ]
        }
      ]
    },
    {
      "cell_type": "markdown",
      "source": [
        "## Задание 8\n",
        "Создайте двумерный массив размером 4x4, заполненный случайными значениями от 1 до 10. Найдите сумму элементов на главной диагонали."
      ],
      "metadata": {
        "id": "qWd0MDoNgbsT"
      }
    },
    {
      "cell_type": "code",
      "source": [
        "from random import randint\n",
        "from numpy import matrix\n",
        "array = [[randint(1, 10) for _ in range(4)] for _ in range(4)]\n",
        "print(matrix(array))\n",
        "\n",
        "print(sum(map(lambda x: x[1][x[0]], enumerate(array))))"
      ],
      "metadata": {
        "id": "P4n3GAW9gb6p",
        "colab": {
          "base_uri": "https://localhost:8080/"
        },
        "outputId": "8ce29ad6-8008-4411-bb18-3342ce8713c5"
      },
      "execution_count": 52,
      "outputs": [
        {
          "output_type": "stream",
          "name": "stdout",
          "text": [
            "[[ 3 10  4  6]\n",
            " [ 5  4  5  1]\n",
            " [10  2  6  1]\n",
            " [ 3  1  8  1]]\n",
            "14\n"
          ]
        }
      ]
    },
    {
      "cell_type": "markdown",
      "source": [
        "## Задание 9\n",
        "Создайте двумерный массив размером 3x3, заполненный случайными значениями от 1 до 10. Поверните массив на 90 градусов."
      ],
      "metadata": {
        "id": "REX27qPwgdsR"
      }
    },
    {
      "cell_type": "code",
      "source": [
        "from random import randint\n",
        "from numpy import matrix\n",
        "array = [[randint(1, 10) for _ in range(3)] for _ in range(3)]\n",
        "print(matrix(array))\n",
        "print()\n",
        "print(matrix(list(map(lambda x: x[::-1], zip(*array)))))"
      ],
      "metadata": {
        "id": "BKJ7SoO2gfMa"
      },
      "execution_count": null,
      "outputs": []
    },
    {
      "cell_type": "markdown",
      "source": [
        "## Задание 10\n",
        "Создайте двумерный массив размером 5x5, заполненный случайными значениями от 1 до 10. Найдите индексы элементов, которые равны максимальному значению в массиве. "
      ],
      "metadata": {
        "id": "tCzMIOKtgfqx"
      }
    },
    {
      "cell_type": "code",
      "source": [
        "from random import randint\n",
        "from numpy import matrix\n",
        "\n",
        "array = [[randint(1, 10) for _ in range(5)] for _ in range(5)]\n",
        "print(matrix(array))\n",
        "\n",
        "maximum = max(sum(array, []))\n",
        "print(maximum)\n",
        "\n",
        "for i in range(len(array)):\n",
        "    for j in range(len(array)):\n",
        "        if array[i][j] == maximum:\n",
        "            print((i, j), end=' ')"
      ],
      "metadata": {
        "id": "7DRhBoZtggDi",
        "colab": {
          "base_uri": "https://localhost:8080/"
        },
        "outputId": "ae2c311e-df93-4f1d-9db1-862fd9e2fa19"
      },
      "execution_count": 56,
      "outputs": [
        {
          "output_type": "stream",
          "name": "stdout",
          "text": [
            "[[ 1  2 10  4 10]\n",
            " [ 9  8 10  1  9]\n",
            " [ 6  5  5  3  3]\n",
            " [ 9  2  1  4  8]\n",
            " [ 5  1  9  9  1]]\n",
            "10\n",
            "(0, 2) (0, 4) (1, 2) "
          ]
        }
      ]
    },
    {
      "cell_type": "markdown",
      "source": [
        "# Матрицы"
      ],
      "metadata": {
        "id": "aBYv0j6JqTx8"
      }
    },
    {
      "cell_type": "code",
      "source": [
        "# 1. а)\n",
        "from numpy import array\n",
        "from sympy.matrices import Matrix, eye\n",
        "a = Matrix([[2, 2, 0],\n",
        "     [-2, -3, 1],\n",
        "     [1, 1, -1]])\n",
        "\n",
        "b = Matrix([[1, 0, 5],\n",
        "     [-1, 1, 3],\n",
        "     [1, 2, 1]])\n",
        "\n",
        "a2 = a * 2\n",
        "b3 = b * 3\n",
        "ab = a2 + b3\n",
        "print(*map(array, (a2, b3, ab, ab - eye(3))), sep='\\n\\n')"
      ],
      "metadata": {
        "id": "w4cFUjL_qJX9"
      },
      "execution_count": null,
      "outputs": []
    },
    {
      "cell_type": "code",
      "source": [
        "# 1. б)\n",
        "from numpy import array\n",
        "from sympy.matrices import Matrix\n",
        "a = Matrix([[2, 2, 0],\n",
        "     [-2, -3, 1],\n",
        "     [1, 1, -1]])\n",
        "\n",
        "b = Matrix([[1, 0, 5],\n",
        "     [-1, 1, 3],\n",
        "     [1, 2, 1]])\n",
        "\n",
        "a2 = a ** 2\n",
        "ab = a * b\n",
        "print(*map(array, (a2, ab, a2 + ab)), sep='\\n\\n')"
      ],
      "metadata": {
        "id": "2aracJYYqdnM"
      },
      "execution_count": null,
      "outputs": []
    },
    {
      "cell_type": "code",
      "source": [
        "from numpy import array\n",
        "from sympy.matrices import Matrix\n",
        "a = Matrix([[2, 2, 0],\n",
        "     [-2, -3, 1],\n",
        "     [1, 1, -1]])\n",
        "\n",
        "b = Matrix([[1, 0, 5],\n",
        "     [-1, 1, 3],\n",
        "     [1, 2, 1]])\n",
        "\n",
        "print(array(a * b))\n",
        "print()\n",
        "print(a.det(), b.det())\n",
        "print((a * b).det())"
      ],
      "metadata": {
        "id": "hERHmLoMqjRI"
      },
      "execution_count": null,
      "outputs": []
    },
    {
      "cell_type": "code",
      "source": [
        "# inverse matrix\n",
        "from numpy import array\n",
        "from sympy.matrices import Matrix, zeros\n",
        "\n",
        "a = Matrix([[2, 4, 1],\n",
        "            [-1, -2, 1],\n",
        "            [1, 0, -3]])\n",
        "\n",
        "\n",
        "def inverse_matrix(lst):\n",
        "  if not lst.det():\n",
        "    print('Не существует')\n",
        "    return\n",
        "  else:\n",
        "    print('det:', lst.det(), '\\n')\n",
        "  a_ij = zeros(*lst.shape)\n",
        "  for i in range(lst.shape[0]):\n",
        "    for j in range(lst.shape[1]):\n",
        "      m = lst.copy()\n",
        "      m.row_del(i), m.col_del(j)\n",
        "      a_ij[i, j] = m.det() * (-1) ** (i + j + 2)\n",
        "  a_ij_t = a_ij.transpose()\n",
        "  inv_lst = a_ij_t / lst.det()\n",
        "  print(*map(array, (a_ij, a_ij_t, inv_lst, lst * inv_lst)), sep='\\n\\n')\n",
        "\n",
        "\n",
        "inverse_matrix(a)"
      ],
      "metadata": {
        "id": "OREPax0FqkSZ"
      },
      "execution_count": null,
      "outputs": []
    },
    {
      "cell_type": "markdown",
      "metadata": {
        "id": "3vlEscoHBjfa"
      },
      "source": [
        "# Pyton"
      ]
    },
    {
      "cell_type": "code",
      "source": [
        "n = int(input('Введите четное целое число: '))\n",
        "lst = [__import__('random').randint(-10, 10) for _ in range(n)]\n",
        "print('Последовательность:', *lst)\n",
        "\n",
        "print('Произведение:', __import__('math').prod(filter(lambda x: x < 0,\n",
        "lst[:n >> 1])))"
      ],
      "metadata": {
        "colab": {
          "base_uri": "https://localhost:8080/"
        },
        "id": "N1DeHp5qUNLB",
        "outputId": "e53a9ead-c8d9-4ee1-d082-03e5e39e08cf"
      },
      "execution_count": 6,
      "outputs": [
        {
          "output_type": "stream",
          "name": "stdout",
          "text": [
            "Введите четное целое число: 4\n",
            "Последовательность: 6 0 -2 -10\n",
            "Произведение: 1\n"
          ]
        }
      ]
    },
    {
      "cell_type": "markdown",
      "metadata": {
        "id": "Oculx1WoH1qn"
      },
      "source": [
        "## Програмки"
      ]
    },
    {
      "cell_type": "code",
      "source": [
        "print(*(f'{i}! = {__import__(\"math\").factorial(i)}' for i in range(12)), sep='\\n')"
      ],
      "metadata": {
        "colab": {
          "base_uri": "https://localhost:8080/"
        },
        "id": "DFr4hAZE9vMI",
        "outputId": "c1098eda-f258-4c7b-cd97-4e7f5721a40f"
      },
      "execution_count": null,
      "outputs": [
        {
          "output_type": "stream",
          "name": "stdout",
          "text": [
            "0! = 1\n",
            "1! = 1\n",
            "2! = 2\n",
            "3! = 6\n",
            "4! = 24\n",
            "5! = 120\n",
            "6! = 720\n",
            "7! = 5040\n",
            "8! = 40320\n",
            "9! = 362880\n",
            "10! = 3628800\n",
            "11! = 39916800\n"
          ]
        }
      ]
    },
    {
      "cell_type": "code",
      "source": [
        "while (s := int(input())):\n",
        "  print(1 / s)"
      ],
      "metadata": {
        "id": "3_eh8vQFNBuk"
      },
      "execution_count": null,
      "outputs": []
    },
    {
      "cell_type": "code",
      "execution_count": null,
      "metadata": {
        "colab": {
          "base_uri": "https://localhost:8080/"
        },
        "id": "yOQJjznETLvh",
        "outputId": "5cc2e533-2ff6-4caa-b193-964a771c090a"
      },
      "outputs": [
        {
          "name": "stdout",
          "output_type": "stream",
          "text": [
            "3 4 4 5\n",
            "4.0\n",
            "3 4 4 5\n",
            "4.0\n",
            "3 4 4 5\n",
            "4.0\n"
          ]
        }
      ],
      "source": [
        "print((lambda x: sum(x) / len(x))(tuple(map(int, input().split()))))\n",
        "\n",
        "print(*[sum(i) / len(i) for i in (tuple(map(int, input().split())),)])\n",
        "\n",
        "print(eval('sum({0}) / len({0})'.format(tuple(map(int, input().split())))))"
      ]
    },
    {
      "cell_type": "code",
      "execution_count": null,
      "metadata": {
        "colab": {
          "base_uri": "https://localhost:8080/"
        },
        "id": "i21z21xaGtLX",
        "outputId": "241f7940-3962-4aae-de64-c65b1a1b1124"
      },
      "outputs": [
        {
          "output_type": "stream",
          "name": "stdout",
          "text": [
            "Дома до звезд, а небо ниже\n",
            "doma do zvezd, a nebo nizhe\n"
          ]
        }
      ],
      "source": [
        "t = {'ё': 'yo', 'а': 'a', 'б': 'b', 'в': 'v', 'г': 'g', 'д': 'd', 'е': 'e', 'ж': 'zh', \n",
        " 'з': 'z', 'и': 'i', 'й': 'y', 'к': 'k', 'л': 'l', 'м': 'm', 'н': 'n', 'о': 'o', 'п': 'p', \n",
        " 'р': 'r', 'с': 's', 'т': 't', 'у': 'u', 'ф': 'f', 'х': 'h', 'ц': 'c', 'ч': 'ch', 'ш': 'sh', \n",
        " 'щ': 'shch', 'ъ': '', 'ы': 'y', 'ь': '', 'э': 'e', 'ю': 'yu', 'я': 'ya', ' ': ' ', ',': ','}\n",
        "\n",
        "print(*[t[i] for i in input().lower() if i in t], sep='')"
      ]
    },
    {
      "cell_type": "code",
      "execution_count": null,
      "metadata": {
        "colab": {
          "base_uri": "https://localhost:8080/"
        },
        "id": "DZkfYL4jZrLI",
        "outputId": "3fa6e080-014e-45c6-efaf-4b5b6cb2926f"
      },
      "outputs": [
        {
          "output_type": "stream",
          "name": "stdout",
          "text": [
            "[1, 2, 3, 4, 5, 8, 2, 4, 4, 5]\n"
          ]
        }
      ],
      "source": [
        "from random import randint\n",
        "\n",
        "for _ in range(int(1e6)):\n",
        "  lst = list(randint(1, 9) for _ in range(10))\n",
        "  if lst[:5] == [1, 2, 3, 4, 5]:\n",
        "    print(lst)\n",
        "    break"
      ]
    },
    {
      "cell_type": "code",
      "execution_count": null,
      "metadata": {
        "colab": {
          "base_uri": "https://localhost:8080/"
        },
        "id": "JwKYPue6q_PM",
        "outputId": "9f4e0b13-4453-4ebd-f774-f337b2341bdf"
      },
      "outputs": [
        {
          "name": "stdout",
          "output_type": "stream",
          "text": [
            "11 22 33 44\n",
            "110\n"
          ]
        }
      ],
      "source": [
        "n = tuple(map(int, input().split()))\n",
        "\n",
        "def sum_lst(x):\n",
        "    return x[0] + sum_lst(x[1:]) if len(x) > 1 else x[0]\n",
        "\n",
        "print(sum_lst(n))"
      ]
    },
    {
      "cell_type": "code",
      "execution_count": null,
      "metadata": {
        "colab": {
          "base_uri": "https://localhost:8080/"
        },
        "id": "WNO5yGKJQ8cV",
        "outputId": "14931479-81d5-49a3-848f-0d69fd8b2d0d"
      },
      "outputs": [
        {
          "name": "stdout",
          "output_type": "stream",
          "text": [
            "6\n",
            "720\n"
          ]
        }
      ],
      "source": [
        "n = int(input())\n",
        "\n",
        "def fact_rec(x):\n",
        "    return x * fact_rec(x - 1) if x else 1\n",
        "\n",
        "print(fact_rec(n))"
      ]
    },
    {
      "cell_type": "code",
      "execution_count": null,
      "metadata": {
        "colab": {
          "base_uri": "https://localhost:8080/"
        },
        "id": "2Qcm_dRechOh",
        "outputId": "3893a32a-1767-48b7-e93f-154074d497dc"
      },
      "outputs": [
        {
          "name": "stdout",
          "output_type": "stream",
          "text": [
            "1 2 3 4 5 \n",
            "1 2 3 4 5 \n",
            "1 2 3 4 5 \n",
            "1 2 3 4 5 \n",
            "1 2 3 4 5 \n"
          ]
        }
      ],
      "source": [
        "n = 5\n",
        "for i in range(1, n + 1):\n",
        "  for j in range(1, n + 1):\n",
        "    print(j, end = ' ')\n",
        "  print()"
      ]
    },
    {
      "cell_type": "code",
      "execution_count": null,
      "metadata": {
        "colab": {
          "base_uri": "https://localhost:8080/"
        },
        "id": "RYGgaVNm3HNu",
        "outputId": "3ca34b56-6a20-4cad-e0c1-bd6871b4c959"
      },
      "outputs": [
        {
          "name": "stdout",
          "output_type": "stream",
          "text": [
            "2\n",
            "4\n",
            "5\n",
            "10\n",
            "20\n",
            "25\n",
            "50\n"
          ]
        }
      ],
      "source": [
        "a = 100\n",
        "for i in range(2, a):\n",
        "  if a % i == 0:\n",
        "    print(i)"
      ]
    },
    {
      "cell_type": "code",
      "execution_count": null,
      "metadata": {
        "colab": {
          "base_uri": "https://localhost:8080/"
        },
        "id": "rgLR92TtIX7S",
        "outputId": "3b885a60-1b27-422c-f257-659970b576ad"
      },
      "outputs": [
        {
          "output_type": "stream",
          "name": "stdout",
          "text": [
            "Число - 2\n",
            "Степень - 10\n",
            "Подождите...\n",
            "3\n",
            "2\n",
            "1\n",
            "Ответ: 1024\n"
          ]
        }
      ],
      "source": [
        "from time import sleep\n",
        "a = int(input('Число - '))\n",
        "b = int(input('Степень - '))\n",
        "print('Подождите...')\n",
        "for i in range(3, 0, -1):\n",
        "    print(i)\n",
        "    sleep(1)\n",
        "print('Ответ:', a ** b)"
      ]
    },
    {
      "cell_type": "code",
      "execution_count": null,
      "metadata": {
        "colab": {
          "base_uri": "https://localhost:8080/"
        },
        "id": "_XbDGKAE0zEq",
        "outputId": "44319f64-e969-4d74-ba15-4d463f906b9d"
      },
      "outputs": [
        {
          "output_type": "stream",
          "name": "stdout",
          "text": [
            "Сколько чисел? 3\n",
            "Число 1 - 1\n",
            "Число 2 - 3\n",
            "Число 3 - 5\n",
            "Ответ: 3.0\n"
          ]
        }
      ],
      "source": [
        "print('Ответ:', [sum(lst) / len(lst) for lst in ([int(input(f'Число {i+1} - ')) for i in range(int(input('Сколько чисел? ')))],)][0])"
      ]
    },
    {
      "cell_type": "code",
      "execution_count": null,
      "metadata": {
        "colab": {
          "base_uri": "https://localhost:8080/"
        },
        "id": "APfLo3phYQKg",
        "outputId": "b8dcf3c5-f556-4cf2-e578-e0a866050e02"
      },
      "outputs": [
        {
          "name": "stdout",
          "output_type": "stream",
          "text": [
            "36 72\n",
            "Ответ: 24.0\n"
          ]
        }
      ],
      "source": [
        "print('Ответ:', round(1 / (sum(map(lambda x: 1 / int(x), input().split()))), 2))"
      ]
    },
    {
      "cell_type": "code",
      "execution_count": null,
      "metadata": {
        "colab": {
          "base_uri": "https://localhost:8080/"
        },
        "id": "AghHDvm2Qlg_",
        "outputId": "a0d242aa-2d8f-4bee-abb6-ade4b666f015"
      },
      "outputs": [
        {
          "name": "stdout",
          "output_type": "stream",
          "text": [
            "24 32 67 80 100\n"
          ]
        }
      ],
      "source": [
        "from random import randint\n",
        "print(*sorted(randint(1, 100) for i in range(5)))"
      ]
    },
    {
      "cell_type": "code",
      "execution_count": null,
      "metadata": {
        "colab": {
          "base_uri": "https://localhost:8080/"
        },
        "id": "9IVC_4-hM0yc",
        "outputId": "c1e19b44-ff3e-4cbf-c926-6ad47befcba4"
      },
      "outputs": [
        {
          "output_type": "stream",
          "name": "stdout",
          "text": [
            "Округление:\n",
            "\tв большую сторону - math.ceil()\n",
            "\tв меньшую - math.floor()\n",
            "Логарифмы:\n",
            "\tпо основанию 2 - math.log2()\n",
            "\tпо основанию 10 - math.log10()\n",
            "\tпо любому основанию - math.log(Число, Основание)\n"
          ]
        }
      ],
      "source": [
        "print('Округление:\\n\\tв большую сторону - math.ceil()\\n\\tв меньшую - math.floor()\\n'\n",
        "'Логарифмы:\\n\\tпо основанию 2 - math.log2()\\n\\tпо основанию 10 - math.log10()\\n\\t'\n",
        "'по любому основанию - math.log(Число, Основание)')"
      ]
    },
    {
      "cell_type": "code",
      "execution_count": null,
      "metadata": {
        "colab": {
          "base_uri": "https://localhost:8080/"
        },
        "id": "aFp7cUOkOpd9",
        "outputId": "681f4905-a746-4bd9-be75-6a5b4ef9d763"
      },
      "outputs": [
        {
          "name": "stdout",
          "output_type": "stream",
          "text": [
            "Введите число(0-10) - 5\n",
            "Пять\n"
          ]
        }
      ],
      "source": [
        "print(['Ноль', 'Один', 'Два', 'Три', 'Четыре', 'Пять', 'Шесть', 'Семь', 'Восемь', 'Девять', 'Десять'][int(input('Введите число(0-10) - '))])"
      ]
    },
    {
      "cell_type": "code",
      "execution_count": null,
      "metadata": {
        "colab": {
          "base_uri": "https://localhost:8080/"
        },
        "id": "f7yz8ij-yXzA",
        "outputId": "abd483a4-c95c-47d1-a0ce-b90232be3428"
      },
      "outputs": [
        {
          "output_type": "stream",
          "name": "stdout",
          "text": [
            "Введите стороны a, b, c - 4 5 4\n",
            "Равнобедренный\n"
          ]
        }
      ],
      "source": [
        "s = len(set(input('Введите стороны a, b, c - ').split()))\n",
        "print('Разносторонний' if s > 2 else 'Равнобедренный' if s > 1 else 'Равносторонний')"
      ]
    },
    {
      "cell_type": "code",
      "execution_count": null,
      "metadata": {
        "colab": {
          "base_uri": "https://localhost:8080/"
        },
        "id": "ERwYBDuSotEp",
        "outputId": "176fd392-34aa-429c-949a-ce30f490155b"
      },
      "outputs": [
        {
          "output_type": "stream",
          "name": "stdout",
          "text": [
            "Введите номер(1-12) - 7\n",
            "Июль\n"
          ]
        }
      ],
      "source": [
        "print(['ы', 'Январь', 'Февраль', 'Март', 'Апрель', 'Май', 'Июнь', 'Июль', 'Август', 'Сентябрь', 'Октябрь', 'Ноябрь', 'Декабрь'][int(input('Введите номер(1-12) - '))])"
      ]
    },
    {
      "cell_type": "code",
      "execution_count": null,
      "metadata": {
        "colab": {
          "base_uri": "https://localhost:8080/"
        },
        "id": "x69EeGGGlmbV",
        "outputId": "51bbd61d-df96-47ce-cf8a-7075c696467b"
      },
      "outputs": [
        {
          "name": "stdout",
          "output_type": "stream",
          "text": [
            "             1             \n",
            "            1 1            \n",
            "           1 2 1           \n",
            "          1 3 3 1          \n",
            "         1 4 6 4 1         \n",
            "       1 5 10 10 5 1       \n",
            "      1 6 15 20 15 6 1     \n",
            "    1 7 21 35 35 21 7 1    \n",
            "   1 8 28 56 70 56 28 8 1  \n",
            "1 9 36 84 126 126 84 36 9 1\n"
          ]
        }
      ],
      "source": [
        "def get_str(s):\n",
        "    return ' '.join(map(str, s))\n",
        "\n",
        "\n",
        "size = 10\n",
        "lst = []\n",
        "\n",
        "for i in range(size):\n",
        "    row = [1] * (i + 1)\n",
        "    for j in range(1, i):\n",
        "        row[j] = lst[i - 1][j - 1] + lst[i - 1][j]\n",
        "    lst.append(row)\n",
        "\n",
        "width = len(get_str(lst[-1]))\n",
        "\n",
        "for line in lst:\n",
        "    print(get_str(line).center(width))"
      ]
    },
    {
      "cell_type": "markdown",
      "metadata": {
        "id": "JN_DtTBHCLLR"
      },
      "source": [
        "## Список"
      ]
    },
    {
      "cell_type": "code",
      "execution_count": null,
      "metadata": {
        "colab": {
          "base_uri": "https://localhost:8080/"
        },
        "id": "gqi2EpJ_u8Yr",
        "outputId": "2737778a-5599-454e-f6db-e916195f66a1"
      },
      "outputs": [
        {
          "name": "stdout",
          "output_type": "stream",
          "text": [
            ":) :) :) :) :) :) :) :) :) :) :) :) :) :) :) :) :) :) :) :) \n",
            ":) :) :) :) :) :) :) :) :) :) :) :) :) :) :) :) :) :) :) :) \n",
            ":) :) :) :) :) :) :) :) :) :) :) :) :) :) :) :) :) :) :) :) \n",
            ":) :) :) :) :) :) :) :) :) :) :) :) :) :) :) :) :) :) :) :) \n",
            ":) :) :) :) :) :) :) :) :) :) :) :) :) :) :) :) :) :) :) :) \n",
            ":) :) :) :) :) :) :) :) :) :) :) :) :) :) :) :) :) :) :) :) \n",
            ":) :) :) :) :) :) :) :) :) :) :) :) :) :) :) :) :) :) :) :) \n",
            ":) :) :) :) :) :) :) :) :) :) :) :) :) :) :) :) :) :) :) :) \n",
            ":) :) :) :) :) :) :) :) :) :) :) :) :) :) :) :) :) :) :) :) \n"
          ]
        }
      ],
      "source": [
        "a = ':) '\n",
        "for _ in range(1, 10):\n",
        "  print(a * 20)"
      ]
    },
    {
      "cell_type": "code",
      "execution_count": null,
      "metadata": {
        "id": "kJ-ZBuk5vvap"
      },
      "outputs": [],
      "source": [
        "list1 = []\n",
        "for i in range(1, 9):\n",
        "   list1.append(int(input(f'Число - {i} ?\\n')))\n",
        "print(f'Список: {list1} \\n Сумма: {sum(list1)} \\n Макс: {max(list1)} \\n Мин: {min(list1)}')"
      ]
    },
    {
      "cell_type": "code",
      "execution_count": null,
      "metadata": {
        "colab": {
          "base_uri": "https://localhost:8080/"
        },
        "id": "Z52Yu-CpyFEo",
        "outputId": "63a85167-3ec6-41a9-8707-469ee5258710"
      },
      "outputs": [
        {
          "name": "stdout",
          "output_type": "stream",
          "text": [
            "50 Исходящий: (26, 31, 62, 19, 63, 16, 13, 33, 17, 67, 24, 49, 17, 19, 55, 23, 58, 62, 57, 19, 51, 32, 32, 25, 49, 42, 32, 30, 11, 22, 22, 20, 40, 51, 55, 18, 52, 52, 29, 13, 66, 43, 21, 68, 33, 23, 17, 23, 45, 65) \n",
            "34 Отсортирован: (11, 13, 16, 17, 18, 19, 20, 21, 22, 23, 24, 25, 26, 29, 30, 31, 32, 33, 40, 42, 43, 45, 49, 51, 52, 55, 57, 58, 62, 63, 65, 66, 67, 68)\n"
          ]
        }
      ],
      "source": [
        "from random import randint\n",
        "list2 = tuple(map(lambda x: randint(10, 70), range(50)))\n",
        "print(f'{len(list2)} Исходящий: {list2} \\n{len(set(list2))} Отсортирован: {tuple(set(list2))}')"
      ]
    },
    {
      "cell_type": "code",
      "execution_count": null,
      "metadata": {
        "colab": {
          "base_uri": "https://localhost:8080/"
        },
        "id": "t0KeKfgp5prV",
        "outputId": "96f6dbb0-73f5-4111-c91b-13f75cc29f07"
      },
      "outputs": [
        {
          "name": "stdout",
          "output_type": "stream",
          "text": [
            "Кол-во отрицательных элементов - 5\n",
            "Список отрицательных элементов - [-1, -5, -3, -2, -18]\n"
          ]
        }
      ],
      "source": [
        "a = [-1, -5, -3, 9, -2, 12, 3, 0, -18, 4]\n",
        "neg_list = list(filter(lambda x: x < 0, a))\n",
        "print('Кол-во отрицательных элементов -', len(neg_list))\n",
        "print('Список отрицательных элементов -', neg_list)"
      ]
    },
    {
      "cell_type": "markdown",
      "metadata": {
        "id": "tR2d1uHMCXPo"
      },
      "source": [
        "## Matplotlib"
      ]
    },
    {
      "cell_type": "code",
      "execution_count": null,
      "metadata": {
        "id": "J0fb4_d8o_HJ"
      },
      "outputs": [],
      "source": [
        "import numpy as np\n",
        "import matplotlib.pyplot as plt"
      ]
    },
    {
      "cell_type": "code",
      "execution_count": null,
      "metadata": {
        "id": "Q0ILKwljpB95"
      },
      "outputs": [],
      "source": [
        "x = np.linspace(0,10,25)\n",
        "y = x**2\n",
        "\n",
        "x1 = np.linspace(0,10,25)\n",
        "y1 = x**3"
      ]
    },
    {
      "cell_type": "code",
      "execution_count": null,
      "metadata": {
        "colab": {
          "base_uri": "https://localhost:8080/",
          "height": 483
        },
        "id": "sZBlrtXmpQub",
        "outputId": "210c590c-dc1b-4301-8df9-ed382a9bf280"
      },
      "outputs": [
        {
          "data": {
            "image/png": "[encoded data removed]",
            "text/plain": [
              "<Figure size 1080x576 with 1 Axes>"
            ]
          },
          "metadata": {},
          "output_type": "display_data"
        }
      ],
      "source": [
        "plt.figure(figsize=(15,8))\n",
        "plt.grid()\n",
        "plt.plot(x,y,'r--',x1,y1,'g--')\n",
        "plt.savefig('1.png',dpi=50)"
      ]
    },
    {
      "cell_type": "code",
      "execution_count": null,
      "metadata": {
        "id": "dHrQqkVPpbZZ"
      },
      "outputs": [],
      "source": [
        "b = np.array([1,2,3], float)"
      ]
    },
    {
      "cell_type": "code",
      "execution_count": null,
      "metadata": {
        "colab": {
          "base_uri": "https://localhost:8080/"
        },
        "id": "bNrOPPfPW5Oe",
        "outputId": "a40ecab2-d503-4aec-f37a-fbd52738a5d6"
      },
      "outputs": [
        {
          "data": {
            "text/plain": [
              "array([1., 2., 3.])"
            ]
          },
          "execution_count": 44,
          "metadata": {},
          "output_type": "execute_result"
        }
      ],
      "source": [
        "b"
      ]
    },
    {
      "cell_type": "code",
      "execution_count": null,
      "metadata": {
        "id": "yFA5xuDspdIG"
      },
      "outputs": [],
      "source": [
        "a = np.array([[1, 2, 3], [4, 5, 6]])"
      ]
    },
    {
      "cell_type": "code",
      "execution_count": null,
      "metadata": {
        "colab": {
          "base_uri": "https://localhost:8080/"
        },
        "id": "M0NQ_E9Gpdc6",
        "outputId": "2e492835-30a6-4876-d1ef-cb9671fc9707"
      },
      "outputs": [
        {
          "data": {
            "text/plain": [
              "array([[1, 2, 3],\n",
              "       [4, 5, 6]])"
            ]
          },
          "execution_count": 46,
          "metadata": {},
          "output_type": "execute_result"
        }
      ],
      "source": [
        "a"
      ]
    },
    {
      "cell_type": "code",
      "execution_count": null,
      "metadata": {
        "colab": {
          "base_uri": "https://localhost:8080/"
        },
        "id": "OriX7otXpdrt",
        "outputId": "cf54262a-f6b0-457d-90a4-3bd465119281"
      },
      "outputs": [
        {
          "data": {
            "text/plain": [
              "(2, 3)"
            ]
          },
          "execution_count": 47,
          "metadata": {},
          "output_type": "execute_result"
        }
      ],
      "source": [
        "a.shape"
      ]
    },
    {
      "cell_type": "code",
      "execution_count": null,
      "metadata": {
        "colab": {
          "base_uri": "https://localhost:8080/"
        },
        "id": "-8Hl4WFrpd-V",
        "outputId": "f89e2771-5044-4c98-8d77-4c5d4f6a0f91"
      },
      "outputs": [
        {
          "data": {
            "text/plain": [
              "5"
            ]
          },
          "execution_count": 48,
          "metadata": {},
          "output_type": "execute_result"
        }
      ],
      "source": [
        "a[1][1]"
      ]
    },
    {
      "cell_type": "code",
      "execution_count": null,
      "metadata": {
        "colab": {
          "base_uri": "https://localhost:8080/"
        },
        "id": "OqO6gukEpeLt",
        "outputId": "a2e8b624-fe74-4c71-b37f-ddc3d54fd906"
      },
      "outputs": [
        {
          "data": {
            "text/plain": [
              "5"
            ]
          },
          "execution_count": 49,
          "metadata": {},
          "output_type": "execute_result"
        }
      ],
      "source": [
        "a[1,1]"
      ]
    },
    {
      "cell_type": "code",
      "execution_count": null,
      "metadata": {
        "colab": {
          "base_uri": "https://localhost:8080/"
        },
        "id": "AeDIRIK-pfBA",
        "outputId": "82978411-07cc-4a8b-892a-527496272908"
      },
      "outputs": [
        {
          "data": {
            "text/plain": [
              "array([0, 1, 2, 3, 4, 5, 6, 7, 8, 9])"
            ]
          },
          "execution_count": 68,
          "metadata": {},
          "output_type": "execute_result"
        }
      ],
      "source": [
        "mass = np.array(range(10), int)\n",
        "mass"
      ]
    },
    {
      "cell_type": "code",
      "execution_count": null,
      "metadata": {
        "colab": {
          "base_uri": "https://localhost:8080/"
        },
        "id": "QFYYbbscqj-n",
        "outputId": "0c4d7b8f-1d66-409f-dc08-b148137fe900"
      },
      "outputs": [
        {
          "data": {
            "text/plain": [
              "array([[0, 1],\n",
              "       [2, 3],\n",
              "       [4, 5],\n",
              "       [6, 7],\n",
              "       [8, 9]])"
            ]
          },
          "execution_count": 69,
          "metadata": {},
          "output_type": "execute_result"
        }
      ],
      "source": [
        "mass = mass.reshape(5,2)\n",
        "mass"
      ]
    },
    {
      "cell_type": "code",
      "execution_count": null,
      "metadata": {
        "colab": {
          "base_uri": "https://localhost:8080/"
        },
        "id": "B7CDn5Nhqkd8",
        "outputId": "802ff975-f240-49e1-f335-b034a65492f8"
      },
      "outputs": [
        {
          "data": {
            "text/plain": [
              "array([[0, 1, 2, 3, 4, 5, 6, 7, 8, 9]])"
            ]
          },
          "execution_count": 70,
          "metadata": {},
          "output_type": "execute_result"
        }
      ],
      "source": [
        "mass = mass.reshape(1,10)\n",
        "mass"
      ]
    },
    {
      "cell_type": "code",
      "execution_count": null,
      "metadata": {
        "colab": {
          "base_uri": "https://localhost:8080/"
        },
        "id": "x5N16LB5qxdF",
        "outputId": "c105dc63-7674-4f79-e5b7-2d877fa1bc78"
      },
      "outputs": [
        {
          "data": {
            "text/plain": [
              "array([[0, 0, 0, 0, 0, 0, 0, 0, 0, 0]])"
            ]
          },
          "execution_count": 71,
          "metadata": {},
          "output_type": "execute_result"
        }
      ],
      "source": [
        "mass.fill(0)\n",
        "mass"
      ]
    },
    {
      "cell_type": "markdown",
      "metadata": {
        "id": "LyEK5tRVIhiK"
      },
      "source": [
        "## Pandas"
      ]
    },
    {
      "cell_type": "code",
      "execution_count": null,
      "metadata": {
        "id": "CPbt5ZGVI0Th"
      },
      "outputs": [],
      "source": [
        "import pandas as pd"
      ]
    },
    {
      "cell_type": "code",
      "execution_count": null,
      "metadata": {
        "colab": {
          "base_uri": "https://localhost:8080/"
        },
        "id": "Z5GMerytI87s",
        "outputId": "59802a28-1d7e-4b08-9301-53c33f43abb0"
      },
      "outputs": [
        {
          "output_type": "stream",
          "name": "stdout",
          "text": [
            "--2022-12-16 20:16:55--  https://raw.githubusercontent.com/vlad-kalambet/datasets/main/data/beauty.csv\n",
            "Resolving raw.githubusercontent.com (raw.githubusercontent.com)... 185.199.108.133, 185.199.109.133, 185.199.110.133, ...\n",
            "Connecting to raw.githubusercontent.com (raw.githubusercontent.com)|185.199.108.133|:443... connected.\n",
            "HTTP request sent, awaiting response... 200 OK\n",
            "Length: 31107 (30K) [text/plain]\n",
            "Saving to: ‘beauty.csv’\n",
            "\n",
            "\rbeauty.csv            0%[                    ]       0  --.-KB/s               \rbeauty.csv          100%[===================>]  30.38K  --.-KB/s    in 0.002s  \n",
            "\n",
            "2022-12-16 20:16:55 (12.7 MB/s) - ‘beauty.csv’ saved [31107/31107]\n",
            "\n"
          ]
        }
      ],
      "source": [
        "!wget https://raw.githubusercontent.com/vlad-kalambet/datasets/main/data/beauty.csv"
      ]
    },
    {
      "cell_type": "code",
      "execution_count": null,
      "metadata": {
        "id": "7SBCX-3LSmuM"
      },
      "outputs": [],
      "source": [
        "df = pd.read_csv('beauty.csv', sep=';')"
      ]
    },
    {
      "cell_type": "code",
      "execution_count": null,
      "metadata": {
        "colab": {
          "base_uri": "https://localhost:8080/",
          "height": 424
        },
        "id": "OnO5ESEuUaoo",
        "outputId": "ad574470-687b-4e63-ee2e-e04ca53a2c6f"
      },
      "outputs": [
        {
          "output_type": "execute_result",
          "data": {
            "text/plain": [
              "       wage  exper  union  goodhlth  black  female  married  service  educ  \\\n",
              "0      5.73     30      0         1      0       1        1        1    14   \n",
              "1      4.28     28      0         1      0       1        1        0    12   \n",
              "2      7.96     35      0         1      0       1        0        0    10   \n",
              "3     11.57     38      0         1      0       0        1        1    16   \n",
              "4     11.42     27      0         1      0       0        1        0    16   \n",
              "...     ...    ...    ...       ...    ...     ...      ...      ...   ...   \n",
              "1255   1.61     25      0         1      1       1        0        1    12   \n",
              "1256   1.68      4      0         1      0       1        1        1    12   \n",
              "1257   3.29     35      0         1      1       1        0        1    12   \n",
              "1258   2.31     15      0         1      1       1        1        1    10   \n",
              "1259   1.92     24      0         0      0       1        0        1    16   \n",
              "\n",
              "      looks  \n",
              "0         4  \n",
              "1         3  \n",
              "2         4  \n",
              "3         3  \n",
              "4         3  \n",
              "...     ...  \n",
              "1255      3  \n",
              "1256      2  \n",
              "1257      3  \n",
              "1258      3  \n",
              "1259      3  \n",
              "\n",
              "[1260 rows x 10 columns]"
            ],
            "text/html": [
              "\n",
              "  <div id=\"df-96edac6b-cd6a-48cd-907e-c9e59c7bf3ad\">\n",
              "    <div class=\"colab-df-container\">\n",
              "      <div>\n",
              "<style scoped>\n",
              "    .dataframe tbody tr th:only-of-type {\n",
              "        vertical-align: middle;\n",
              "    }\n",
              "\n",
              "    .dataframe tbody tr th {\n",
              "        vertical-align: top;\n",
              "    }\n",
              "\n",
              "    .dataframe thead th {\n",
              "        text-align: right;\n",
              "    }\n",
              "</style>\n",
              "<table border=\"1\" class=\"dataframe\">\n",
              "  <thead>\n",
              "    <tr style=\"text-align: right;\">\n",
              "      <th></th>\n",
              "      <th>wage</th>\n",
              "      <th>exper</th>\n",
              "      <th>union</th>\n",
              "      <th>goodhlth</th>\n",
              "      <th>black</th>\n",
              "      <th>female</th>\n",
              "      <th>married</th>\n",
              "      <th>service</th>\n",
              "      <th>educ</th>\n",
              "      <th>looks</th>\n",
              "    </tr>\n",
              "  </thead>\n",
              "  <tbody>\n",
              "    <tr>\n",
              "      <th>0</th>\n",
              "      <td>5.73</td>\n",
              "      <td>30</td>\n",
              "      <td>0</td>\n",
              "      <td>1</td>\n",
              "      <td>0</td>\n",
              "      <td>1</td>\n",
              "      <td>1</td>\n",
              "      <td>1</td>\n",
              "      <td>14</td>\n",
              "      <td>4</td>\n",
              "    </tr>\n",
              "    <tr>\n",
              "      <th>1</th>\n",
              "      <td>4.28</td>\n",
              "      <td>28</td>\n",
              "      <td>0</td>\n",
              "      <td>1</td>\n",
              "      <td>0</td>\n",
              "      <td>1</td>\n",
              "      <td>1</td>\n",
              "      <td>0</td>\n",
              "      <td>12</td>\n",
              "      <td>3</td>\n",
              "    </tr>\n",
              "    <tr>\n",
              "      <th>2</th>\n",
              "      <td>7.96</td>\n",
              "      <td>35</td>\n",
              "      <td>0</td>\n",
              "      <td>1</td>\n",
              "      <td>0</td>\n",
              "      <td>1</td>\n",
              "      <td>0</td>\n",
              "      <td>0</td>\n",
              "      <td>10</td>\n",
              "      <td>4</td>\n",
              "    </tr>\n",
              "    <tr>\n",
              "      <th>3</th>\n",
              "      <td>11.57</td>\n",
              "      <td>38</td>\n",
              "      <td>0</td>\n",
              "      <td>1</td>\n",
              "      <td>0</td>\n",
              "      <td>0</td>\n",
              "      <td>1</td>\n",
              "      <td>1</td>\n",
              "      <td>16</td>\n",
              "      <td>3</td>\n",
              "    </tr>\n",
              "    <tr>\n",
              "      <th>4</th>\n",
              "      <td>11.42</td>\n",
              "      <td>27</td>\n",
              "      <td>0</td>\n",
              "      <td>1</td>\n",
              "      <td>0</td>\n",
              "      <td>0</td>\n",
              "      <td>1</td>\n",
              "      <td>0</td>\n",
              "      <td>16</td>\n",
              "      <td>3</td>\n",
              "    </tr>\n",
              "    <tr>\n",
              "      <th>...</th>\n",
              "      <td>...</td>\n",
              "      <td>...</td>\n",
              "      <td>...</td>\n",
              "      <td>...</td>\n",
              "      <td>...</td>\n",
              "      <td>...</td>\n",
              "      <td>...</td>\n",
              "      <td>...</td>\n",
              "      <td>...</td>\n",
              "      <td>...</td>\n",
              "    </tr>\n",
              "    <tr>\n",
              "      <th>1255</th>\n",
              "      <td>1.61</td>\n",
              "      <td>25</td>\n",
              "      <td>0</td>\n",
              "      <td>1</td>\n",
              "      <td>1</td>\n",
              "      <td>1</td>\n",
              "      <td>0</td>\n",
              "      <td>1</td>\n",
              "      <td>12</td>\n",
              "      <td>3</td>\n",
              "    </tr>\n",
              "    <tr>\n",
              "      <th>1256</th>\n",
              "      <td>1.68</td>\n",
              "      <td>4</td>\n",
              "      <td>0</td>\n",
              "      <td>1</td>\n",
              "      <td>0</td>\n",
              "      <td>1</td>\n",
              "      <td>1</td>\n",
              "      <td>1</td>\n",
              "      <td>12</td>\n",
              "      <td>2</td>\n",
              "    </tr>\n",
              "    <tr>\n",
              "      <th>1257</th>\n",
              "      <td>3.29</td>\n",
              "      <td>35</td>\n",
              "      <td>0</td>\n",
              "      <td>1</td>\n",
              "      <td>1</td>\n",
              "      <td>1</td>\n",
              "      <td>0</td>\n",
              "      <td>1</td>\n",
              "      <td>12</td>\n",
              "      <td>3</td>\n",
              "    </tr>\n",
              "    <tr>\n",
              "      <th>1258</th>\n",
              "      <td>2.31</td>\n",
              "      <td>15</td>\n",
              "      <td>0</td>\n",
              "      <td>1</td>\n",
              "      <td>1</td>\n",
              "      <td>1</td>\n",
              "      <td>1</td>\n",
              "      <td>1</td>\n",
              "      <td>10</td>\n",
              "      <td>3</td>\n",
              "    </tr>\n",
              "    <tr>\n",
              "      <th>1259</th>\n",
              "      <td>1.92</td>\n",
              "      <td>24</td>\n",
              "      <td>0</td>\n",
              "      <td>0</td>\n",
              "      <td>0</td>\n",
              "      <td>1</td>\n",
              "      <td>0</td>\n",
              "      <td>1</td>\n",
              "      <td>16</td>\n",
              "      <td>3</td>\n",
              "    </tr>\n",
              "  </tbody>\n",
              "</table>\n",
              "<p>1260 rows × 10 columns</p>\n",
              "</div>\n",
              "      <button class=\"colab-df-convert\" onclick=\"convertToInteractive('df-96edac6b-cd6a-48cd-907e-c9e59c7bf3ad')\"\n",
              "              title=\"Convert this dataframe to an interactive table.\"\n",
              "              style=\"display:none;\">\n",
              "        \n",
              "  <svg xmlns=\"http://www.w3.org/2000/svg\" height=\"24px\"viewBox=\"0 0 24 24\"\n",
              "       width=\"24px\">\n",
              "    <path d=\"M0 0h24v24H0V0z\" fill=\"none\"/>\n",
              "    <path d=\"M18.56 5.44l.94 2.06.94-2.06 2.06-.94-2.06-.94-.94-2.06-.94 2.06-2.06.94zm-11 1L8.5 8.5l.94-2.06 2.06-.94-2.06-.94L8.5 2.5l-.94 2.06-2.06.94zm10 10l.94 2.06.94-2.06 2.06-.94-2.06-.94-.94-2.06-.94 2.06-2.06.94z\"/><path d=\"M17.41 7.96l-1.37-1.37c-.4-.4-.92-.59-1.43-.59-.52 0-1.04.2-1.43.59L10.3 9.45l-7.72 7.72c-.78.78-.78 2.05 0 2.83L4 21.41c.39.39.9.59 1.41.59.51 0 1.02-.2 1.41-.59l7.78-7.78 2.81-2.81c.8-.78.8-2.07 0-2.86zM5.41 20L4 18.59l7.72-7.72 1.47 1.35L5.41 20z\"/>\n",
              "  </svg>\n",
              "      </button>\n",
              "      \n",
              "  <style>\n",
              "    .colab-df-container {\n",
              "      display:flex;\n",
              "      flex-wrap:wrap;\n",
              "      gap: 12px;\n",
              "    }\n",
              "\n",
              "    .colab-df-convert {\n",
              "      background-color: #E8F0FE;\n",
              "      border: none;\n",
              "      border-radius: 50%;\n",
              "      cursor: pointer;\n",
              "      display: none;\n",
              "      fill: #1967D2;\n",
              "      height: 32px;\n",
              "      padding: 0 0 0 0;\n",
              "      width: 32px;\n",
              "    }\n",
              "\n",
              "    .colab-df-convert:hover {\n",
              "      background-color: #E2EBFA;\n",
              "      box-shadow: 0px 1px 2px rgba(60, 64, 67, 0.3), 0px 1px 3px 1px rgba(60, 64, 67, 0.15);\n",
              "      fill: #174EA6;\n",
              "    }\n",
              "\n",
              "    [theme=dark] .colab-df-convert {\n",
              "      background-color: #3B4455;\n",
              "      fill: #D2E3FC;\n",
              "    }\n",
              "\n",
              "    [theme=dark] .colab-df-convert:hover {\n",
              "      background-color: #434B5C;\n",
              "      box-shadow: 0px 1px 3px 1px rgba(0, 0, 0, 0.15);\n",
              "      filter: drop-shadow(0px 1px 2px rgba(0, 0, 0, 0.3));\n",
              "      fill: #FFFFFF;\n",
              "    }\n",
              "  </style>\n",
              "\n",
              "      <script>\n",
              "        const buttonEl =\n",
              "          document.querySelector('#df-96edac6b-cd6a-48cd-907e-c9e59c7bf3ad button.colab-df-convert');\n",
              "        buttonEl.style.display =\n",
              "          google.colab.kernel.accessAllowed ? 'block' : 'none';\n",
              "\n",
              "        async function convertToInteractive(key) {\n",
              "          const element = document.querySelector('#df-96edac6b-cd6a-48cd-907e-c9e59c7bf3ad');\n",
              "          const dataTable =\n",
              "            await google.colab.kernel.invokeFunction('convertToInteractive',\n",
              "                                                     [key], {});\n",
              "          if (!dataTable) return;\n",
              "\n",
              "          const docLinkHtml = 'Like what you see? Visit the ' +\n",
              "            '<a target=\"_blank\" href=https://colab.research.google.com/notebooks/data_table.ipynb>data table notebook</a>'\n",
              "            + ' to learn more about interactive tables.';\n",
              "          element.innerHTML = '';\n",
              "          dataTable['output_type'] = 'display_data';\n",
              "          await google.colab.output.renderOutput(dataTable, element);\n",
              "          const docLink = document.createElement('div');\n",
              "          docLink.innerHTML = docLinkHtml;\n",
              "          element.appendChild(docLink);\n",
              "        }\n",
              "      </script>\n",
              "    </div>\n",
              "  </div>\n",
              "  "
            ]
          },
          "metadata": {},
          "execution_count": 107
        }
      ],
      "source": [
        "df"
      ]
    },
    {
      "cell_type": "code",
      "execution_count": null,
      "metadata": {
        "colab": {
          "base_uri": "https://localhost:8080/"
        },
        "id": "W0JuEzbEsfvs",
        "outputId": "5fe0de79-b6d4-4415-ab13-4782c3653b1a"
      },
      "outputs": [
        {
          "output_type": "stream",
          "name": "stdout",
          "text": [
            "<class 'pandas.core.frame.DataFrame'>\n",
            "RangeIndex: 1260 entries, 0 to 1259\n",
            "Data columns (total 10 columns):\n",
            " #   Column    Non-Null Count  Dtype  \n",
            "---  ------    --------------  -----  \n",
            " 0   wage      1260 non-null   float64\n",
            " 1   exper     1260 non-null   int64  \n",
            " 2   union     1260 non-null   int64  \n",
            " 3   goodhlth  1260 non-null   int64  \n",
            " 4   black     1260 non-null   int64  \n",
            " 5   female    1260 non-null   int64  \n",
            " 6   married   1260 non-null   int64  \n",
            " 7   service   1260 non-null   int64  \n",
            " 8   educ      1260 non-null   int64  \n",
            " 9   looks     1260 non-null   int64  \n",
            "dtypes: float64(1), int64(9)\n",
            "memory usage: 98.6 KB\n"
          ]
        }
      ],
      "source": [
        "df.info(0)"
      ]
    },
    {
      "cell_type": "code",
      "execution_count": null,
      "metadata": {
        "colab": {
          "base_uri": "https://localhost:8080/",
          "height": 300
        },
        "id": "eoSADykTU8Fc",
        "outputId": "2662e72c-3ca7-49ec-a09d-5b252334e60e"
      },
      "outputs": [
        {
          "output_type": "execute_result",
          "data": {
            "text/plain": [
              "              wage        exper        union     goodhlth        black  \\\n",
              "count  1260.000000  1260.000000  1260.000000  1260.000000  1260.000000   \n",
              "mean      6.306690    18.206349     0.272222     0.933333     0.073810   \n",
              "std       4.660639    11.963485     0.445280     0.249543     0.261564   \n",
              "min       1.020000     0.000000     0.000000     0.000000     0.000000   \n",
              "25%       3.707500     8.000000     0.000000     1.000000     0.000000   \n",
              "50%       5.300000    15.000000     0.000000     1.000000     0.000000   \n",
              "75%       7.695000    27.000000     1.000000     1.000000     0.000000   \n",
              "max      77.720000    48.000000     1.000000     1.000000     1.000000   \n",
              "\n",
              "            female      married      service         educ        looks  \n",
              "count  1260.000000  1260.000000  1260.000000  1260.000000  1260.000000  \n",
              "mean      0.346032     0.691270     0.273810    12.563492     3.185714  \n",
              "std       0.475892     0.462153     0.446089     2.624489     0.684877  \n",
              "min       0.000000     0.000000     0.000000     5.000000     1.000000  \n",
              "25%       0.000000     0.000000     0.000000    12.000000     3.000000  \n",
              "50%       0.000000     1.000000     0.000000    12.000000     3.000000  \n",
              "75%       1.000000     1.000000     1.000000    13.000000     4.000000  \n",
              "max       1.000000     1.000000     1.000000    17.000000     5.000000  "
            ],
            "text/html": [
              "\n",
              "  <div id=\"df-18ec2a04-e44c-49c6-af4e-fa59c76895c6\">\n",
              "    <div class=\"colab-df-container\">\n",
              "      <div>\n",
              "<style scoped>\n",
              "    .dataframe tbody tr th:only-of-type {\n",
              "        vertical-align: middle;\n",
              "    }\n",
              "\n",
              "    .dataframe tbody tr th {\n",
              "        vertical-align: top;\n",
              "    }\n",
              "\n",
              "    .dataframe thead th {\n",
              "        text-align: right;\n",
              "    }\n",
              "</style>\n",
              "<table border=\"1\" class=\"dataframe\">\n",
              "  <thead>\n",
              "    <tr style=\"text-align: right;\">\n",
              "      <th></th>\n",
              "      <th>wage</th>\n",
              "      <th>exper</th>\n",
              "      <th>union</th>\n",
              "      <th>goodhlth</th>\n",
              "      <th>black</th>\n",
              "      <th>female</th>\n",
              "      <th>married</th>\n",
              "      <th>service</th>\n",
              "      <th>educ</th>\n",
              "      <th>looks</th>\n",
              "    </tr>\n",
              "  </thead>\n",
              "  <tbody>\n",
              "    <tr>\n",
              "      <th>count</th>\n",
              "      <td>1260.000000</td>\n",
              "      <td>1260.000000</td>\n",
              "      <td>1260.000000</td>\n",
              "      <td>1260.000000</td>\n",
              "      <td>1260.000000</td>\n",
              "      <td>1260.000000</td>\n",
              "      <td>1260.000000</td>\n",
              "      <td>1260.000000</td>\n",
              "      <td>1260.000000</td>\n",
              "      <td>1260.000000</td>\n",
              "    </tr>\n",
              "    <tr>\n",
              "      <th>mean</th>\n",
              "      <td>6.306690</td>\n",
              "      <td>18.206349</td>\n",
              "      <td>0.272222</td>\n",
              "      <td>0.933333</td>\n",
              "      <td>0.073810</td>\n",
              "      <td>0.346032</td>\n",
              "      <td>0.691270</td>\n",
              "      <td>0.273810</td>\n",
              "      <td>12.563492</td>\n",
              "      <td>3.185714</td>\n",
              "    </tr>\n",
              "    <tr>\n",
              "      <th>std</th>\n",
              "      <td>4.660639</td>\n",
              "      <td>11.963485</td>\n",
              "      <td>0.445280</td>\n",
              "      <td>0.249543</td>\n",
              "      <td>0.261564</td>\n",
              "      <td>0.475892</td>\n",
              "      <td>0.462153</td>\n",
              "      <td>0.446089</td>\n",
              "      <td>2.624489</td>\n",
              "      <td>0.684877</td>\n",
              "    </tr>\n",
              "    <tr>\n",
              "      <th>min</th>\n",
              "      <td>1.020000</td>\n",
              "      <td>0.000000</td>\n",
              "      <td>0.000000</td>\n",
              "      <td>0.000000</td>\n",
              "      <td>0.000000</td>\n",
              "      <td>0.000000</td>\n",
              "      <td>0.000000</td>\n",
              "      <td>0.000000</td>\n",
              "      <td>5.000000</td>\n",
              "      <td>1.000000</td>\n",
              "    </tr>\n",
              "    <tr>\n",
              "      <th>25%</th>\n",
              "      <td>3.707500</td>\n",
              "      <td>8.000000</td>\n",
              "      <td>0.000000</td>\n",
              "      <td>1.000000</td>\n",
              "      <td>0.000000</td>\n",
              "      <td>0.000000</td>\n",
              "      <td>0.000000</td>\n",
              "      <td>0.000000</td>\n",
              "      <td>12.000000</td>\n",
              "      <td>3.000000</td>\n",
              "    </tr>\n",
              "    <tr>\n",
              "      <th>50%</th>\n",
              "      <td>5.300000</td>\n",
              "      <td>15.000000</td>\n",
              "      <td>0.000000</td>\n",
              "      <td>1.000000</td>\n",
              "      <td>0.000000</td>\n",
              "      <td>0.000000</td>\n",
              "      <td>1.000000</td>\n",
              "      <td>0.000000</td>\n",
              "      <td>12.000000</td>\n",
              "      <td>3.000000</td>\n",
              "    </tr>\n",
              "    <tr>\n",
              "      <th>75%</th>\n",
              "      <td>7.695000</td>\n",
              "      <td>27.000000</td>\n",
              "      <td>1.000000</td>\n",
              "      <td>1.000000</td>\n",
              "      <td>0.000000</td>\n",
              "      <td>1.000000</td>\n",
              "      <td>1.000000</td>\n",
              "      <td>1.000000</td>\n",
              "      <td>13.000000</td>\n",
              "      <td>4.000000</td>\n",
              "    </tr>\n",
              "    <tr>\n",
              "      <th>max</th>\n",
              "      <td>77.720000</td>\n",
              "      <td>48.000000</td>\n",
              "      <td>1.000000</td>\n",
              "      <td>1.000000</td>\n",
              "      <td>1.000000</td>\n",
              "      <td>1.000000</td>\n",
              "      <td>1.000000</td>\n",
              "      <td>1.000000</td>\n",
              "      <td>17.000000</td>\n",
              "      <td>5.000000</td>\n",
              "    </tr>\n",
              "  </tbody>\n",
              "</table>\n",
              "</div>\n",
              "      <button class=\"colab-df-convert\" onclick=\"convertToInteractive('df-18ec2a04-e44c-49c6-af4e-fa59c76895c6')\"\n",
              "              title=\"Convert this dataframe to an interactive table.\"\n",
              "              style=\"display:none;\">\n",
              "        \n",
              "  <svg xmlns=\"http://www.w3.org/2000/svg\" height=\"24px\"viewBox=\"0 0 24 24\"\n",
              "       width=\"24px\">\n",
              "    <path d=\"M0 0h24v24H0V0z\" fill=\"none\"/>\n",
              "    <path d=\"M18.56 5.44l.94 2.06.94-2.06 2.06-.94-2.06-.94-.94-2.06-.94 2.06-2.06.94zm-11 1L8.5 8.5l.94-2.06 2.06-.94-2.06-.94L8.5 2.5l-.94 2.06-2.06.94zm10 10l.94 2.06.94-2.06 2.06-.94-2.06-.94-.94-2.06-.94 2.06-2.06.94z\"/><path d=\"M17.41 7.96l-1.37-1.37c-.4-.4-.92-.59-1.43-.59-.52 0-1.04.2-1.43.59L10.3 9.45l-7.72 7.72c-.78.78-.78 2.05 0 2.83L4 21.41c.39.39.9.59 1.41.59.51 0 1.02-.2 1.41-.59l7.78-7.78 2.81-2.81c.8-.78.8-2.07 0-2.86zM5.41 20L4 18.59l7.72-7.72 1.47 1.35L5.41 20z\"/>\n",
              "  </svg>\n",
              "      </button>\n",
              "      \n",
              "  <style>\n",
              "    .colab-df-container {\n",
              "      display:flex;\n",
              "      flex-wrap:wrap;\n",
              "      gap: 12px;\n",
              "    }\n",
              "\n",
              "    .colab-df-convert {\n",
              "      background-color: #E8F0FE;\n",
              "      border: none;\n",
              "      border-radius: 50%;\n",
              "      cursor: pointer;\n",
              "      display: none;\n",
              "      fill: #1967D2;\n",
              "      height: 32px;\n",
              "      padding: 0 0 0 0;\n",
              "      width: 32px;\n",
              "    }\n",
              "\n",
              "    .colab-df-convert:hover {\n",
              "      background-color: #E2EBFA;\n",
              "      box-shadow: 0px 1px 2px rgba(60, 64, 67, 0.3), 0px 1px 3px 1px rgba(60, 64, 67, 0.15);\n",
              "      fill: #174EA6;\n",
              "    }\n",
              "\n",
              "    [theme=dark] .colab-df-convert {\n",
              "      background-color: #3B4455;\n",
              "      fill: #D2E3FC;\n",
              "    }\n",
              "\n",
              "    [theme=dark] .colab-df-convert:hover {\n",
              "      background-color: #434B5C;\n",
              "      box-shadow: 0px 1px 3px 1px rgba(0, 0, 0, 0.15);\n",
              "      filter: drop-shadow(0px 1px 2px rgba(0, 0, 0, 0.3));\n",
              "      fill: #FFFFFF;\n",
              "    }\n",
              "  </style>\n",
              "\n",
              "      <script>\n",
              "        const buttonEl =\n",
              "          document.querySelector('#df-18ec2a04-e44c-49c6-af4e-fa59c76895c6 button.colab-df-convert');\n",
              "        buttonEl.style.display =\n",
              "          google.colab.kernel.accessAllowed ? 'block' : 'none';\n",
              "\n",
              "        async function convertToInteractive(key) {\n",
              "          const element = document.querySelector('#df-18ec2a04-e44c-49c6-af4e-fa59c76895c6');\n",
              "          const dataTable =\n",
              "            await google.colab.kernel.invokeFunction('convertToInteractive',\n",
              "                                                     [key], {});\n",
              "          if (!dataTable) return;\n",
              "\n",
              "          const docLinkHtml = 'Like what you see? Visit the ' +\n",
              "            '<a target=\"_blank\" href=https://colab.research.google.com/notebooks/data_table.ipynb>data table notebook</a>'\n",
              "            + ' to learn more about interactive tables.';\n",
              "          element.innerHTML = '';\n",
              "          dataTable['output_type'] = 'display_data';\n",
              "          await google.colab.output.renderOutput(dataTable, element);\n",
              "          const docLink = document.createElement('div');\n",
              "          docLink.innerHTML = docLinkHtml;\n",
              "          element.appendChild(docLink);\n",
              "        }\n",
              "      </script>\n",
              "    </div>\n",
              "  </div>\n",
              "  "
            ]
          },
          "metadata": {},
          "execution_count": 109
        }
      ],
      "source": [
        "df.describe()"
      ]
    },
    {
      "cell_type": "code",
      "execution_count": null,
      "metadata": {
        "colab": {
          "base_uri": "https://localhost:8080/",
          "height": 282
        },
        "id": "3f5gfYagXbqA",
        "outputId": "ac2212e7-a952-4bb0-9342-1ea95ee7c311"
      },
      "outputs": [
        {
          "output_type": "execute_result",
          "data": {
            "text/plain": [
              "<matplotlib.axes._subplots.AxesSubplot at 0x7f14b1f5c9d0>"
            ]
          },
          "metadata": {},
          "execution_count": 110
        },
        {
          "output_type": "display_data",
          "data": {
            "text/plain": [
              "<Figure size 432x288 with 1 Axes>"
            ],
            "image/png": "[encoded data removed]"
          },
          "metadata": {
            "needs_background": "light"
          }
        }
      ],
      "source": [
        "df.married.hist()"
      ]
    },
    {
      "cell_type": "code",
      "execution_count": null,
      "metadata": {
        "colab": {
          "base_uri": "https://localhost:8080/",
          "height": 143
        },
        "id": "3IY_OJapXiG2",
        "outputId": "32659b0b-db53-45bf-975d-4d3865eb37b2"
      },
      "outputs": [
        {
          "output_type": "execute_result",
          "data": {
            "text/plain": [
              "looks    1    2    3    4   5\n",
              "married                      \n",
              "0        5   41  205  127  11\n",
              "1        8  101  517  237   8"
            ],
            "text/html": [
              "\n",
              "  <div id=\"df-5d7dbb4a-8ae5-4438-8a0c-f1e30530c117\">\n",
              "    <div class=\"colab-df-container\">\n",
              "      <div>\n",
              "<style scoped>\n",
              "    .dataframe tbody tr th:only-of-type {\n",
              "        vertical-align: middle;\n",
              "    }\n",
              "\n",
              "    .dataframe tbody tr th {\n",
              "        vertical-align: top;\n",
              "    }\n",
              "\n",
              "    .dataframe thead th {\n",
              "        text-align: right;\n",
              "    }\n",
              "</style>\n",
              "<table border=\"1\" class=\"dataframe\">\n",
              "  <thead>\n",
              "    <tr style=\"text-align: right;\">\n",
              "      <th>looks</th>\n",
              "      <th>1</th>\n",
              "      <th>2</th>\n",
              "      <th>3</th>\n",
              "      <th>4</th>\n",
              "      <th>5</th>\n",
              "    </tr>\n",
              "    <tr>\n",
              "      <th>married</th>\n",
              "      <th></th>\n",
              "      <th></th>\n",
              "      <th></th>\n",
              "      <th></th>\n",
              "      <th></th>\n",
              "    </tr>\n",
              "  </thead>\n",
              "  <tbody>\n",
              "    <tr>\n",
              "      <th>0</th>\n",
              "      <td>5</td>\n",
              "      <td>41</td>\n",
              "      <td>205</td>\n",
              "      <td>127</td>\n",
              "      <td>11</td>\n",
              "    </tr>\n",
              "    <tr>\n",
              "      <th>1</th>\n",
              "      <td>8</td>\n",
              "      <td>101</td>\n",
              "      <td>517</td>\n",
              "      <td>237</td>\n",
              "      <td>8</td>\n",
              "    </tr>\n",
              "  </tbody>\n",
              "</table>\n",
              "</div>\n",
              "      <button class=\"colab-df-convert\" onclick=\"convertToInteractive('df-5d7dbb4a-8ae5-4438-8a0c-f1e30530c117')\"\n",
              "              title=\"Convert this dataframe to an interactive table.\"\n",
              "              style=\"display:none;\">\n",
              "        \n",
              "  <svg xmlns=\"http://www.w3.org/2000/svg\" height=\"24px\"viewBox=\"0 0 24 24\"\n",
              "       width=\"24px\">\n",
              "    <path d=\"M0 0h24v24H0V0z\" fill=\"none\"/>\n",
              "    <path d=\"M18.56 5.44l.94 2.06.94-2.06 2.06-.94-2.06-.94-.94-2.06-.94 2.06-2.06.94zm-11 1L8.5 8.5l.94-2.06 2.06-.94-2.06-.94L8.5 2.5l-.94 2.06-2.06.94zm10 10l.94 2.06.94-2.06 2.06-.94-2.06-.94-.94-2.06-.94 2.06-2.06.94z\"/><path d=\"M17.41 7.96l-1.37-1.37c-.4-.4-.92-.59-1.43-.59-.52 0-1.04.2-1.43.59L10.3 9.45l-7.72 7.72c-.78.78-.78 2.05 0 2.83L4 21.41c.39.39.9.59 1.41.59.51 0 1.02-.2 1.41-.59l7.78-7.78 2.81-2.81c.8-.78.8-2.07 0-2.86zM5.41 20L4 18.59l7.72-7.72 1.47 1.35L5.41 20z\"/>\n",
              "  </svg>\n",
              "      </button>\n",
              "      \n",
              "  <style>\n",
              "    .colab-df-container {\n",
              "      display:flex;\n",
              "      flex-wrap:wrap;\n",
              "      gap: 12px;\n",
              "    }\n",
              "\n",
              "    .colab-df-convert {\n",
              "      background-color: #E8F0FE;\n",
              "      border: none;\n",
              "      border-radius: 50%;\n",
              "      cursor: pointer;\n",
              "      display: none;\n",
              "      fill: #1967D2;\n",
              "      height: 32px;\n",
              "      padding: 0 0 0 0;\n",
              "      width: 32px;\n",
              "    }\n",
              "\n",
              "    .colab-df-convert:hover {\n",
              "      background-color: #E2EBFA;\n",
              "      box-shadow: 0px 1px 2px rgba(60, 64, 67, 0.3), 0px 1px 3px 1px rgba(60, 64, 67, 0.15);\n",
              "      fill: #174EA6;\n",
              "    }\n",
              "\n",
              "    [theme=dark] .colab-df-convert {\n",
              "      background-color: #3B4455;\n",
              "      fill: #D2E3FC;\n",
              "    }\n",
              "\n",
              "    [theme=dark] .colab-df-convert:hover {\n",
              "      background-color: #434B5C;\n",
              "      box-shadow: 0px 1px 3px 1px rgba(0, 0, 0, 0.15);\n",
              "      filter: drop-shadow(0px 1px 2px rgba(0, 0, 0, 0.3));\n",
              "      fill: #FFFFFF;\n",
              "    }\n",
              "  </style>\n",
              "\n",
              "      <script>\n",
              "        const buttonEl =\n",
              "          document.querySelector('#df-5d7dbb4a-8ae5-4438-8a0c-f1e30530c117 button.colab-df-convert');\n",
              "        buttonEl.style.display =\n",
              "          google.colab.kernel.accessAllowed ? 'block' : 'none';\n",
              "\n",
              "        async function convertToInteractive(key) {\n",
              "          const element = document.querySelector('#df-5d7dbb4a-8ae5-4438-8a0c-f1e30530c117');\n",
              "          const dataTable =\n",
              "            await google.colab.kernel.invokeFunction('convertToInteractive',\n",
              "                                                     [key], {});\n",
              "          if (!dataTable) return;\n",
              "\n",
              "          const docLinkHtml = 'Like what you see? Visit the ' +\n",
              "            '<a target=\"_blank\" href=https://colab.research.google.com/notebooks/data_table.ipynb>data table notebook</a>'\n",
              "            + ' to learn more about interactive tables.';\n",
              "          element.innerHTML = '';\n",
              "          dataTable['output_type'] = 'display_data';\n",
              "          await google.colab.output.renderOutput(dataTable, element);\n",
              "          const docLink = document.createElement('div');\n",
              "          docLink.innerHTML = docLinkHtml;\n",
              "          element.appendChild(docLink);\n",
              "        }\n",
              "      </script>\n",
              "    </div>\n",
              "  </div>\n",
              "  "
            ]
          },
          "metadata": {},
          "execution_count": 111
        }
      ],
      "source": [
        "pd.crosstab(df['married'],df['looks'])"
      ]
    },
    {
      "cell_type": "code",
      "execution_count": null,
      "metadata": {
        "colab": {
          "base_uri": "https://localhost:8080/"
        },
        "id": "riJyNWvFYxre",
        "outputId": "f1bae95e-107f-4786-da60-9ff432d38f7f"
      },
      "outputs": [
        {
          "output_type": "execute_result",
          "data": {
            "text/plain": [
              "(6.306690476190475, 5.3)"
            ]
          },
          "metadata": {},
          "execution_count": 112
        }
      ],
      "source": [
        "df['wage'].mean() ,\\\n",
        "df['wage'].median()"
      ]
    },
    {
      "cell_type": "code",
      "execution_count": null,
      "metadata": {
        "colab": {
          "base_uri": "https://localhost:8080/"
        },
        "id": "KZOJ8RSZZykK",
        "outputId": "3764a73c-9c49-4a38-a387-d1b1f2fca059"
      },
      "outputs": [
        {
          "output_type": "execute_result",
          "data": {
            "text/plain": [
              "(1.02, 77.72)"
            ]
          },
          "metadata": {},
          "execution_count": 113
        }
      ],
      "source": [
        "df['wage'].min() ,\\\n",
        "df['wage'].max()"
      ]
    },
    {
      "cell_type": "code",
      "execution_count": null,
      "metadata": {
        "colab": {
          "base_uri": "https://localhost:8080/",
          "height": 282
        },
        "id": "xmlOvONuaYtC",
        "outputId": "a6b7cc7e-604c-4034-f19c-d2178bdc7a78"
      },
      "outputs": [
        {
          "output_type": "execute_result",
          "data": {
            "text/plain": [
              "<matplotlib.axes._subplots.AxesSubplot at 0x7f14b1eb0df0>"
            ]
          },
          "metadata": {},
          "execution_count": 114
        },
        {
          "output_type": "display_data",
          "data": {
            "text/plain": [
              "<Figure size 432x288 with 1 Axes>"
            ],
            "image/png": "[encoded data removed]"
          },
          "metadata": {
            "needs_background": "light"
          }
        }
      ],
      "source": [
        "df.boxplot('wage')"
      ]
    },
    {
      "cell_type": "code",
      "execution_count": null,
      "metadata": {
        "colab": {
          "base_uri": "https://localhost:8080/",
          "height": 282
        },
        "id": "RhxGInyFbF3r",
        "outputId": "29c2015e-a0a1-4eaf-cc1f-be4b771ad205"
      },
      "outputs": [
        {
          "output_type": "execute_result",
          "data": {
            "text/plain": [
              "<matplotlib.axes._subplots.AxesSubplot at 0x7f14b1984700>"
            ]
          },
          "metadata": {},
          "execution_count": 115
        },
        {
          "output_type": "display_data",
          "data": {
            "text/plain": [
              "<Figure size 432x288 with 1 Axes>"
            ],
            "image/png": "[encoded data removed]"
          },
          "metadata": {
            "needs_background": "light"
          }
        }
      ],
      "source": [
        "df.boxplot()"
      ]
    },
    {
      "cell_type": "code",
      "execution_count": null,
      "metadata": {
        "colab": {
          "base_uri": "https://localhost:8080/"
        },
        "id": "lKszJwccby9s",
        "outputId": "3345e33d-21e1-4f74-aa0c-a24d8197765e"
      },
      "outputs": [
        {
          "output_type": "execute_result",
          "data": {
            "text/plain": [
              "(3.75, 6.41)"
            ]
          },
          "metadata": {},
          "execution_count": 116
        }
      ],
      "source": [
        "df[df['female'] == 1] ['wage'].median() ,\\\n",
        "df[df['female'] == 0] ['wage'].median()"
      ]
    },
    {
      "cell_type": "code",
      "execution_count": null,
      "metadata": {
        "colab": {
          "base_uri": "https://localhost:8080/"
        },
        "id": "4Gzpvce9cXMY",
        "outputId": "63e101e4-4f7f-47dd-e074-c663b60bc151"
      },
      "outputs": [
        {
          "output_type": "execute_result",
          "data": {
            "text/plain": [
              "(4.299357798165137, 7.3688228155339806)"
            ]
          },
          "metadata": {},
          "execution_count": 117
        }
      ],
      "source": [
        "df[df['female'] == 1] ['wage'].mean() ,\\\n",
        "df[df['female'] == 0] ['wage'].mean()"
      ]
    },
    {
      "cell_type": "code",
      "execution_count": null,
      "metadata": {
        "colab": {
          "base_uri": "https://localhost:8080/"
        },
        "id": "uJcX95uetE3W",
        "outputId": "59c550b0-6302-4bed-b712-ea388c1297c7"
      },
      "outputs": [
        {
          "output_type": "execute_result",
          "data": {
            "text/plain": [
              "(8.71, 4.81)"
            ]
          },
          "metadata": {},
          "execution_count": 118
        }
      ],
      "source": [
        "df[(df['female'] == 0) & (df['married'] == 1) & (df['looks'] == 5) & (df['exper'] < 30)] ['wage'].mean() ,\\\n",
        "df[(df['female'] == 0) & (df['married'] == 1) & (df['looks'] == 5) & (df['exper'] < 30)] ['wage'].median()"
      ]
    },
    {
      "cell_type": "code",
      "execution_count": null,
      "metadata": {
        "colab": {
          "base_uri": "https://localhost:8080/"
        },
        "id": "DJXwfjGLtFE1",
        "outputId": "35e91af5-bf6c-48b7-99df-f088a52b3c17"
      },
      "outputs": [
        {
          "output_type": "execute_result",
          "data": {
            "text/plain": [
              "13.0"
            ]
          },
          "metadata": {},
          "execution_count": 119
        }
      ],
      "source": [
        "df[(df['female'] == 0) & (df['married'] == 1) & (df['looks'] == 5) & (df['exper'] > 0)] ['educ'].mean()"
      ]
    },
    {
      "cell_type": "code",
      "execution_count": null,
      "metadata": {
        "colab": {
          "base_uri": "https://localhost:8080/"
        },
        "id": "xCFERmxQtFZm",
        "outputId": "fff79b52-7d51-49de-e5fa-f6f6df8632ce"
      },
      "outputs": [
        {
          "output_type": "execute_result",
          "data": {
            "text/plain": [
              "(13.0, 12.0)"
            ]
          },
          "metadata": {},
          "execution_count": 120
        }
      ],
      "source": [
        "df[(df['female'] == 0) & (df['married'] == 1) & (df['looks'] == 5) & (df['exper'] > 0)] ['educ'].mean() ,\\\n",
        "df[(df['female'] == 1) & (df['married'] == 1) & (df['looks'] == 5) & (df['exper'] > 0)] ['educ'].mean()"
      ]
    },
    {
      "cell_type": "code",
      "execution_count": null,
      "metadata": {
        "colab": {
          "base_uri": "https://localhost:8080/"
        },
        "id": "1zGaTs0KtFn9",
        "outputId": "0a027ccc-dd72-40e2-922c-3c2250492419"
      },
      "outputs": [
        {
          "output_type": "execute_result",
          "data": {
            "text/plain": [
              "(8.71, 6.11)"
            ]
          },
          "metadata": {},
          "execution_count": 121
        }
      ],
      "source": [
        "df[(df['female'] == 0) & (df['married'] == 1) & (df['looks'] == 5) & (df['exper'] > 0)] ['wage'].mean() ,\\\n",
        "df[(df['female'] == 1) & (df['married'] == 1) & (df['looks'] == 5) & (df['exper'] > 0)] ['wage'].mean()"
      ]
    },
    {
      "cell_type": "code",
      "execution_count": null,
      "metadata": {
        "colab": {
          "base_uri": "https://localhost:8080/"
        },
        "id": "A0JWcRGrtGCk",
        "outputId": "9933dc9d-f59f-455e-aaae-6deae13d9c0a"
      },
      "outputs": [
        {
          "output_type": "execute_result",
          "data": {
            "text/plain": [
              "(wage        7\n",
              " exper       7\n",
              " union       7\n",
              " goodhlth    7\n",
              " black       7\n",
              " female      7\n",
              " married     7\n",
              " service     7\n",
              " educ        7\n",
              " looks       7\n",
              " dtype: int64, wage        1\n",
              " exper       1\n",
              " union       1\n",
              " goodhlth    1\n",
              " black       1\n",
              " female      1\n",
              " married     1\n",
              " service     1\n",
              " educ        1\n",
              " looks       1\n",
              " dtype: int64)"
            ]
          },
          "metadata": {},
          "execution_count": 122
        }
      ],
      "source": [
        "df[(df['female'] == 0) & (df['married'] == 1) & (df['looks'] == 5) & (df['exper'] > 0)].count() ,\\\n",
        "df[(df['female'] == 1) & (df['married'] == 1) & (df['looks'] == 5) & (df['exper'] > 0)].count()"
      ]
    },
    {
      "cell_type": "code",
      "execution_count": null,
      "metadata": {
        "colab": {
          "base_uri": "https://localhost:8080/"
        },
        "id": "YtNmVO1YtGSJ",
        "outputId": "fe0f7eed-47a9-4e6f-ea01-15d7475224e6"
      },
      "outputs": [
        {
          "output_type": "execute_result",
          "data": {
            "text/plain": [
              "wage        48\n",
              "exper       48\n",
              "union       48\n",
              "goodhlth    48\n",
              "black       48\n",
              "female      48\n",
              "married     48\n",
              "service     48\n",
              "educ        48\n",
              "looks       48\n",
              "dtype: int64"
            ]
          },
          "metadata": {},
          "execution_count": 123
        }
      ],
      "source": [
        "df[(df['union'] == 1) & (df['female'] == 0) & (df['married'] == 0)].count()"
      ]
    },
    {
      "cell_type": "code",
      "execution_count": null,
      "metadata": {
        "colab": {
          "base_uri": "https://localhost:8080/"
        },
        "id": "g4FET2HHtWtl",
        "outputId": "050d15f3-3e14-4582-d92e-db21e8f1eb14"
      },
      "outputs": [
        {
          "output_type": "stream",
          "name": "stdout",
          "text": [
            "--2022-12-16 20:16:57--  https://github.com/vlad-kalambet/datasets/raw/main/data/cars.csv\n",
            "Resolving github.com (github.com)... 140.82.114.4\n",
            "Connecting to github.com (github.com)|140.82.114.4|:443... connected.\n",
            "HTTP request sent, awaiting response... 302 Found\n",
            "Location: https://raw.githubusercontent.com/vlad-kalambet/datasets/main/data/cars.csv [following]\n",
            "--2022-12-16 20:16:57--  https://raw.githubusercontent.com/vlad-kalambet/datasets/main/data/cars.csv\n",
            "Resolving raw.githubusercontent.com (raw.githubusercontent.com)... 185.199.108.133, 185.199.109.133, 185.199.110.133, ...\n",
            "Connecting to raw.githubusercontent.com (raw.githubusercontent.com)|185.199.108.133|:443... connected.\n",
            "HTTP request sent, awaiting response... 200 OK\n",
            "Length: 38040 (37K) [text/plain]\n",
            "Saving to: ‘cars.csv’\n",
            "\n",
            "cars.csv            100%[===================>]  37.15K  --.-KB/s    in 0.003s  \n",
            "\n",
            "2022-12-16 20:16:57 (10.4 MB/s) - ‘cars.csv’ saved [38040/38040]\n",
            "\n"
          ]
        }
      ],
      "source": [
        "!wget https://github.com/vlad-kalambet/datasets/raw/main/data/cars.csv"
      ]
    },
    {
      "cell_type": "code",
      "execution_count": null,
      "metadata": {
        "id": "CMQPlmphtdwm"
      },
      "outputs": [],
      "source": [
        "df_cars = pd.read_csv('cars.csv', sep=';', index_col='Obs')"
      ]
    },
    {
      "cell_type": "code",
      "execution_count": null,
      "metadata": {
        "colab": {
          "base_uri": "https://localhost:8080/"
        },
        "id": "dQOyqmUMteAG",
        "outputId": "72fa0b2f-281c-4979-e9eb-e938b394a965"
      },
      "outputs": [
        {
          "output_type": "stream",
          "name": "stdout",
          "text": [
            "<class 'pandas.core.frame.DataFrame'>\n",
            "Int64Index: 428 entries, 1 to 428\n",
            "Data columns (total 15 columns):\n",
            " #   Column       Non-Null Count  Dtype  \n",
            "---  ------       --------------  -----  \n",
            " 0   Make         428 non-null    object \n",
            " 1   Model        428 non-null    object \n",
            " 2   Type         428 non-null    object \n",
            " 3   Origin       428 non-null    object \n",
            " 4   DriveTrain   428 non-null    object \n",
            " 5   MSRP         428 non-null    object \n",
            " 6   Invoice      428 non-null    object \n",
            " 7   EngineSize   428 non-null    float64\n",
            " 8   Cylinders    428 non-null    object \n",
            " 9   Horsepower   428 non-null    int64  \n",
            " 10  MPG_City     428 non-null    int64  \n",
            " 11  MPG_Highway  428 non-null    int64  \n",
            " 12  Weight       428 non-null    int64  \n",
            " 13  Wheelbase    428 non-null    int64  \n",
            " 14  Length       428 non-null    int64  \n",
            "dtypes: float64(1), int64(6), object(8)\n",
            "memory usage: 53.5+ KB\n"
          ]
        }
      ],
      "source": [
        "df_cars.info()"
      ]
    },
    {
      "cell_type": "code",
      "execution_count": null,
      "metadata": {
        "colab": {
          "base_uri": "https://localhost:8080/",
          "height": 455
        },
        "id": "Trnm4T6FteP6",
        "outputId": "735cbcfa-0b75-40c2-acf6-5c48f214cb72"
      },
      "outputs": [
        {
          "output_type": "execute_result",
          "data": {
            "text/plain": [
              "      Make                    Model   Type  Origin DriveTrain     MSRP  \\\n",
              "Obs                                                                      \n",
              "1    Acura                      MDX    SUV    Asia        All  $36,945   \n",
              "2    Acura           RSX Type S 2dr  Sedan    Asia      Front  $23,820   \n",
              "3    Acura                  TSX 4dr  Sedan    Asia      Front  $26,990   \n",
              "4    Acura                   TL 4dr  Sedan    Asia      Front  $33,195   \n",
              "5    Acura               3.5 RL 4dr  Sedan    Asia      Front  $43,755   \n",
              "..     ...                      ...    ...     ...        ...      ...   \n",
              "424  Volvo  C70 LPT convertible 2dr  Sedan  Europe      Front  $40,565   \n",
              "425  Volvo  C70 HPT convertible 2dr  Sedan  Europe      Front  $42,565   \n",
              "426  Volvo               S80 T6 4dr  Sedan  Europe      Front  $45,210   \n",
              "427  Volvo                      V40  Wagon  Europe      Front  $26,135   \n",
              "428  Volvo                     XC70  Wagon  Europe        All  $35,145   \n",
              "\n",
              "     Invoice  EngineSize Cylinders  Horsepower  MPG_City  MPG_Highway  Weight  \\\n",
              "Obs                                                                             \n",
              "1    $33,337         3.5         6         265        17           23    4451   \n",
              "2    $21,761         2.0         4         200        24           31    2778   \n",
              "3    $24,647         2.4         4         200        22           29    3230   \n",
              "4    $30,299         3.2         6         270        20           28    3575   \n",
              "5    $39,014         3.5         6         225        18           24    3880   \n",
              "..       ...         ...       ...         ...       ...          ...     ...   \n",
              "424  $38,203         2.4         5         197        21           28    3450   \n",
              "425  $40,083         2.3         5         242        20           26    3450   \n",
              "426  $42,573         2.9         6         268        19           26    3653   \n",
              "427  $24,641         1.9         4         170        22           29    2822   \n",
              "428  $33,112         2.5         5         208        20           27    3823   \n",
              "\n",
              "     Wheelbase  Length  \n",
              "Obs                     \n",
              "1          106     189  \n",
              "2          101     172  \n",
              "3          105     183  \n",
              "4          108     186  \n",
              "5          115     197  \n",
              "..         ...     ...  \n",
              "424        105     186  \n",
              "425        105     186  \n",
              "426        110     190  \n",
              "427        101     180  \n",
              "428        109     186  \n",
              "\n",
              "[428 rows x 15 columns]"
            ],
            "text/html": [
              "\n",
              "  <div id=\"df-c63de1ce-2bdc-4584-827b-101ee6bfec42\">\n",
              "    <div class=\"colab-df-container\">\n",
              "      <div>\n",
              "<style scoped>\n",
              "    .dataframe tbody tr th:only-of-type {\n",
              "        vertical-align: middle;\n",
              "    }\n",
              "\n",
              "    .dataframe tbody tr th {\n",
              "        vertical-align: top;\n",
              "    }\n",
              "\n",
              "    .dataframe thead th {\n",
              "        text-align: right;\n",
              "    }\n",
              "</style>\n",
              "<table border=\"1\" class=\"dataframe\">\n",
              "  <thead>\n",
              "    <tr style=\"text-align: right;\">\n",
              "      <th></th>\n",
              "      <th>Make</th>\n",
              "      <th>Model</th>\n",
              "      <th>Type</th>\n",
              "      <th>Origin</th>\n",
              "      <th>DriveTrain</th>\n",
              "      <th>MSRP</th>\n",
              "      <th>Invoice</th>\n",
              "      <th>EngineSize</th>\n",
              "      <th>Cylinders</th>\n",
              "      <th>Horsepower</th>\n",
              "      <th>MPG_City</th>\n",
              "      <th>MPG_Highway</th>\n",
              "      <th>Weight</th>\n",
              "      <th>Wheelbase</th>\n",
              "      <th>Length</th>\n",
              "    </tr>\n",
              "    <tr>\n",
              "      <th>Obs</th>\n",
              "      <th></th>\n",
              "      <th></th>\n",
              "      <th></th>\n",
              "      <th></th>\n",
              "      <th></th>\n",
              "      <th></th>\n",
              "      <th></th>\n",
              "      <th></th>\n",
              "      <th></th>\n",
              "      <th></th>\n",
              "      <th></th>\n",
              "      <th></th>\n",
              "      <th></th>\n",
              "      <th></th>\n",
              "      <th></th>\n",
              "    </tr>\n",
              "  </thead>\n",
              "  <tbody>\n",
              "    <tr>\n",
              "      <th>1</th>\n",
              "      <td>Acura</td>\n",
              "      <td>MDX</td>\n",
              "      <td>SUV</td>\n",
              "      <td>Asia</td>\n",
              "      <td>All</td>\n",
              "      <td>$36,945</td>\n",
              "      <td>$33,337</td>\n",
              "      <td>3.5</td>\n",
              "      <td>6</td>\n",
              "      <td>265</td>\n",
              "      <td>17</td>\n",
              "      <td>23</td>\n",
              "      <td>4451</td>\n",
              "      <td>106</td>\n",
              "      <td>189</td>\n",
              "    </tr>\n",
              "    <tr>\n",
              "      <th>2</th>\n",
              "      <td>Acura</td>\n",
              "      <td>RSX Type S 2dr</td>\n",
              "      <td>Sedan</td>\n",
              "      <td>Asia</td>\n",
              "      <td>Front</td>\n",
              "      <td>$23,820</td>\n",
              "      <td>$21,761</td>\n",
              "      <td>2.0</td>\n",
              "      <td>4</td>\n",
              "      <td>200</td>\n",
              "      <td>24</td>\n",
              "      <td>31</td>\n",
              "      <td>2778</td>\n",
              "      <td>101</td>\n",
              "      <td>172</td>\n",
              "    </tr>\n",
              "    <tr>\n",
              "      <th>3</th>\n",
              "      <td>Acura</td>\n",
              "      <td>TSX 4dr</td>\n",
              "      <td>Sedan</td>\n",
              "      <td>Asia</td>\n",
              "      <td>Front</td>\n",
              "      <td>$26,990</td>\n",
              "      <td>$24,647</td>\n",
              "      <td>2.4</td>\n",
              "      <td>4</td>\n",
              "      <td>200</td>\n",
              "      <td>22</td>\n",
              "      <td>29</td>\n",
              "      <td>3230</td>\n",
              "      <td>105</td>\n",
              "      <td>183</td>\n",
              "    </tr>\n",
              "    <tr>\n",
              "      <th>4</th>\n",
              "      <td>Acura</td>\n",
              "      <td>TL 4dr</td>\n",
              "      <td>Sedan</td>\n",
              "      <td>Asia</td>\n",
              "      <td>Front</td>\n",
              "      <td>$33,195</td>\n",
              "      <td>$30,299</td>\n",
              "      <td>3.2</td>\n",
              "      <td>6</td>\n",
              "      <td>270</td>\n",
              "      <td>20</td>\n",
              "      <td>28</td>\n",
              "      <td>3575</td>\n",
              "      <td>108</td>\n",
              "      <td>186</td>\n",
              "    </tr>\n",
              "    <tr>\n",
              "      <th>5</th>\n",
              "      <td>Acura</td>\n",
              "      <td>3.5 RL 4dr</td>\n",
              "      <td>Sedan</td>\n",
              "      <td>Asia</td>\n",
              "      <td>Front</td>\n",
              "      <td>$43,755</td>\n",
              "      <td>$39,014</td>\n",
              "      <td>3.5</td>\n",
              "      <td>6</td>\n",
              "      <td>225</td>\n",
              "      <td>18</td>\n",
              "      <td>24</td>\n",
              "      <td>3880</td>\n",
              "      <td>115</td>\n",
              "      <td>197</td>\n",
              "    </tr>\n",
              "    <tr>\n",
              "      <th>...</th>\n",
              "      <td>...</td>\n",
              "      <td>...</td>\n",
              "      <td>...</td>\n",
              "      <td>...</td>\n",
              "      <td>...</td>\n",
              "      <td>...</td>\n",
              "      <td>...</td>\n",
              "      <td>...</td>\n",
              "      <td>...</td>\n",
              "      <td>...</td>\n",
              "      <td>...</td>\n",
              "      <td>...</td>\n",
              "      <td>...</td>\n",
              "      <td>...</td>\n",
              "      <td>...</td>\n",
              "    </tr>\n",
              "    <tr>\n",
              "      <th>424</th>\n",
              "      <td>Volvo</td>\n",
              "      <td>C70 LPT convertible 2dr</td>\n",
              "      <td>Sedan</td>\n",
              "      <td>Europe</td>\n",
              "      <td>Front</td>\n",
              "      <td>$40,565</td>\n",
              "      <td>$38,203</td>\n",
              "      <td>2.4</td>\n",
              "      <td>5</td>\n",
              "      <td>197</td>\n",
              "      <td>21</td>\n",
              "      <td>28</td>\n",
              "      <td>3450</td>\n",
              "      <td>105</td>\n",
              "      <td>186</td>\n",
              "    </tr>\n",
              "    <tr>\n",
              "      <th>425</th>\n",
              "      <td>Volvo</td>\n",
              "      <td>C70 HPT convertible 2dr</td>\n",
              "      <td>Sedan</td>\n",
              "      <td>Europe</td>\n",
              "      <td>Front</td>\n",
              "      <td>$42,565</td>\n",
              "      <td>$40,083</td>\n",
              "      <td>2.3</td>\n",
              "      <td>5</td>\n",
              "      <td>242</td>\n",
              "      <td>20</td>\n",
              "      <td>26</td>\n",
              "      <td>3450</td>\n",
              "      <td>105</td>\n",
              "      <td>186</td>\n",
              "    </tr>\n",
              "    <tr>\n",
              "      <th>426</th>\n",
              "      <td>Volvo</td>\n",
              "      <td>S80 T6 4dr</td>\n",
              "      <td>Sedan</td>\n",
              "      <td>Europe</td>\n",
              "      <td>Front</td>\n",
              "      <td>$45,210</td>\n",
              "      <td>$42,573</td>\n",
              "      <td>2.9</td>\n",
              "      <td>6</td>\n",
              "      <td>268</td>\n",
              "      <td>19</td>\n",
              "      <td>26</td>\n",
              "      <td>3653</td>\n",
              "      <td>110</td>\n",
              "      <td>190</td>\n",
              "    </tr>\n",
              "    <tr>\n",
              "      <th>427</th>\n",
              "      <td>Volvo</td>\n",
              "      <td>V40</td>\n",
              "      <td>Wagon</td>\n",
              "      <td>Europe</td>\n",
              "      <td>Front</td>\n",
              "      <td>$26,135</td>\n",
              "      <td>$24,641</td>\n",
              "      <td>1.9</td>\n",
              "      <td>4</td>\n",
              "      <td>170</td>\n",
              "      <td>22</td>\n",
              "      <td>29</td>\n",
              "      <td>2822</td>\n",
              "      <td>101</td>\n",
              "      <td>180</td>\n",
              "    </tr>\n",
              "    <tr>\n",
              "      <th>428</th>\n",
              "      <td>Volvo</td>\n",
              "      <td>XC70</td>\n",
              "      <td>Wagon</td>\n",
              "      <td>Europe</td>\n",
              "      <td>All</td>\n",
              "      <td>$35,145</td>\n",
              "      <td>$33,112</td>\n",
              "      <td>2.5</td>\n",
              "      <td>5</td>\n",
              "      <td>208</td>\n",
              "      <td>20</td>\n",
              "      <td>27</td>\n",
              "      <td>3823</td>\n",
              "      <td>109</td>\n",
              "      <td>186</td>\n",
              "    </tr>\n",
              "  </tbody>\n",
              "</table>\n",
              "<p>428 rows × 15 columns</p>\n",
              "</div>\n",
              "      <button class=\"colab-df-convert\" onclick=\"convertToInteractive('df-c63de1ce-2bdc-4584-827b-101ee6bfec42')\"\n",
              "              title=\"Convert this dataframe to an interactive table.\"\n",
              "              style=\"display:none;\">\n",
              "        \n",
              "  <svg xmlns=\"http://www.w3.org/2000/svg\" height=\"24px\"viewBox=\"0 0 24 24\"\n",
              "       width=\"24px\">\n",
              "    <path d=\"M0 0h24v24H0V0z\" fill=\"none\"/>\n",
              "    <path d=\"M18.56 5.44l.94 2.06.94-2.06 2.06-.94-2.06-.94-.94-2.06-.94 2.06-2.06.94zm-11 1L8.5 8.5l.94-2.06 2.06-.94-2.06-.94L8.5 2.5l-.94 2.06-2.06.94zm10 10l.94 2.06.94-2.06 2.06-.94-2.06-.94-.94-2.06-.94 2.06-2.06.94z\"/><path d=\"M17.41 7.96l-1.37-1.37c-.4-.4-.92-.59-1.43-.59-.52 0-1.04.2-1.43.59L10.3 9.45l-7.72 7.72c-.78.78-.78 2.05 0 2.83L4 21.41c.39.39.9.59 1.41.59.51 0 1.02-.2 1.41-.59l7.78-7.78 2.81-2.81c.8-.78.8-2.07 0-2.86zM5.41 20L4 18.59l7.72-7.72 1.47 1.35L5.41 20z\"/>\n",
              "  </svg>\n",
              "      </button>\n",
              "      \n",
              "  <style>\n",
              "    .colab-df-container {\n",
              "      display:flex;\n",
              "      flex-wrap:wrap;\n",
              "      gap: 12px;\n",
              "    }\n",
              "\n",
              "    .colab-df-convert {\n",
              "      background-color: #E8F0FE;\n",
              "      border: none;\n",
              "      border-radius: 50%;\n",
              "      cursor: pointer;\n",
              "      display: none;\n",
              "      fill: #1967D2;\n",
              "      height: 32px;\n",
              "      padding: 0 0 0 0;\n",
              "      width: 32px;\n",
              "    }\n",
              "\n",
              "    .colab-df-convert:hover {\n",
              "      background-color: #E2EBFA;\n",
              "      box-shadow: 0px 1px 2px rgba(60, 64, 67, 0.3), 0px 1px 3px 1px rgba(60, 64, 67, 0.15);\n",
              "      fill: #174EA6;\n",
              "    }\n",
              "\n",
              "    [theme=dark] .colab-df-convert {\n",
              "      background-color: #3B4455;\n",
              "      fill: #D2E3FC;\n",
              "    }\n",
              "\n",
              "    [theme=dark] .colab-df-convert:hover {\n",
              "      background-color: #434B5C;\n",
              "      box-shadow: 0px 1px 3px 1px rgba(0, 0, 0, 0.15);\n",
              "      filter: drop-shadow(0px 1px 2px rgba(0, 0, 0, 0.3));\n",
              "      fill: #FFFFFF;\n",
              "    }\n",
              "  </style>\n",
              "\n",
              "      <script>\n",
              "        const buttonEl =\n",
              "          document.querySelector('#df-c63de1ce-2bdc-4584-827b-101ee6bfec42 button.colab-df-convert');\n",
              "        buttonEl.style.display =\n",
              "          google.colab.kernel.accessAllowed ? 'block' : 'none';\n",
              "\n",
              "        async function convertToInteractive(key) {\n",
              "          const element = document.querySelector('#df-c63de1ce-2bdc-4584-827b-101ee6bfec42');\n",
              "          const dataTable =\n",
              "            await google.colab.kernel.invokeFunction('convertToInteractive',\n",
              "                                                     [key], {});\n",
              "          if (!dataTable) return;\n",
              "\n",
              "          const docLinkHtml = 'Like what you see? Visit the ' +\n",
              "            '<a target=\"_blank\" href=https://colab.research.google.com/notebooks/data_table.ipynb>data table notebook</a>'\n",
              "            + ' to learn more about interactive tables.';\n",
              "          element.innerHTML = '';\n",
              "          dataTable['output_type'] = 'display_data';\n",
              "          await google.colab.output.renderOutput(dataTable, element);\n",
              "          const docLink = document.createElement('div');\n",
              "          docLink.innerHTML = docLinkHtml;\n",
              "          element.appendChild(docLink);\n",
              "        }\n",
              "      </script>\n",
              "    </div>\n",
              "  </div>\n",
              "  "
            ]
          },
          "metadata": {},
          "execution_count": 127
        }
      ],
      "source": [
        "df_cars"
      ]
    },
    {
      "cell_type": "code",
      "execution_count": null,
      "metadata": {
        "colab": {
          "base_uri": "https://localhost:8080/",
          "height": 143
        },
        "id": "1b7_83gAteoh",
        "outputId": "082f456d-ef4c-4222-e8ed-9671dac2db7a"
      },
      "outputs": [
        {
          "output_type": "execute_result",
          "data": {
            "text/plain": [
              "      Make               Model    Type Origin DriveTrain     MSRP  Invoice  \\\n",
              "Obs                                                                          \n",
              "248  Mazda  RX-8 4dr automatic  Sports   Asia       Rear  $25,700  $23,794   \n",
              "249  Mazda     RX-8 4dr manual  Sports   Asia       Rear  $27,200  $25,179   \n",
              "\n",
              "     EngineSize Cylinders  Horsepower  MPG_City  MPG_Highway  Weight  \\\n",
              "Obs                                                                    \n",
              "248         1.3         .         197        18           25    3053   \n",
              "249         1.3         .         238        18           24    3029   \n",
              "\n",
              "     Wheelbase  Length  \n",
              "Obs                     \n",
              "248        106     174  \n",
              "249        106     174  "
            ],
            "text/html": [
              "\n",
              "  <div id=\"df-35fcd3cb-6dd1-458a-9854-f0113bfb9349\">\n",
              "    <div class=\"colab-df-container\">\n",
              "      <div>\n",
              "<style scoped>\n",
              "    .dataframe tbody tr th:only-of-type {\n",
              "        vertical-align: middle;\n",
              "    }\n",
              "\n",
              "    .dataframe tbody tr th {\n",
              "        vertical-align: top;\n",
              "    }\n",
              "\n",
              "    .dataframe thead th {\n",
              "        text-align: right;\n",
              "    }\n",
              "</style>\n",
              "<table border=\"1\" class=\"dataframe\">\n",
              "  <thead>\n",
              "    <tr style=\"text-align: right;\">\n",
              "      <th></th>\n",
              "      <th>Make</th>\n",
              "      <th>Model</th>\n",
              "      <th>Type</th>\n",
              "      <th>Origin</th>\n",
              "      <th>DriveTrain</th>\n",
              "      <th>MSRP</th>\n",
              "      <th>Invoice</th>\n",
              "      <th>EngineSize</th>\n",
              "      <th>Cylinders</th>\n",
              "      <th>Horsepower</th>\n",
              "      <th>MPG_City</th>\n",
              "      <th>MPG_Highway</th>\n",
              "      <th>Weight</th>\n",
              "      <th>Wheelbase</th>\n",
              "      <th>Length</th>\n",
              "    </tr>\n",
              "    <tr>\n",
              "      <th>Obs</th>\n",
              "      <th></th>\n",
              "      <th></th>\n",
              "      <th></th>\n",
              "      <th></th>\n",
              "      <th></th>\n",
              "      <th></th>\n",
              "      <th></th>\n",
              "      <th></th>\n",
              "      <th></th>\n",
              "      <th></th>\n",
              "      <th></th>\n",
              "      <th></th>\n",
              "      <th></th>\n",
              "      <th></th>\n",
              "      <th></th>\n",
              "    </tr>\n",
              "  </thead>\n",
              "  <tbody>\n",
              "    <tr>\n",
              "      <th>248</th>\n",
              "      <td>Mazda</td>\n",
              "      <td>RX-8 4dr automatic</td>\n",
              "      <td>Sports</td>\n",
              "      <td>Asia</td>\n",
              "      <td>Rear</td>\n",
              "      <td>$25,700</td>\n",
              "      <td>$23,794</td>\n",
              "      <td>1.3</td>\n",
              "      <td>.</td>\n",
              "      <td>197</td>\n",
              "      <td>18</td>\n",
              "      <td>25</td>\n",
              "      <td>3053</td>\n",
              "      <td>106</td>\n",
              "      <td>174</td>\n",
              "    </tr>\n",
              "    <tr>\n",
              "      <th>249</th>\n",
              "      <td>Mazda</td>\n",
              "      <td>RX-8 4dr manual</td>\n",
              "      <td>Sports</td>\n",
              "      <td>Asia</td>\n",
              "      <td>Rear</td>\n",
              "      <td>$27,200</td>\n",
              "      <td>$25,179</td>\n",
              "      <td>1.3</td>\n",
              "      <td>.</td>\n",
              "      <td>238</td>\n",
              "      <td>18</td>\n",
              "      <td>24</td>\n",
              "      <td>3029</td>\n",
              "      <td>106</td>\n",
              "      <td>174</td>\n",
              "    </tr>\n",
              "  </tbody>\n",
              "</table>\n",
              "</div>\n",
              "      <button class=\"colab-df-convert\" onclick=\"convertToInteractive('df-35fcd3cb-6dd1-458a-9854-f0113bfb9349')\"\n",
              "              title=\"Convert this dataframe to an interactive table.\"\n",
              "              style=\"display:none;\">\n",
              "        \n",
              "  <svg xmlns=\"http://www.w3.org/2000/svg\" height=\"24px\"viewBox=\"0 0 24 24\"\n",
              "       width=\"24px\">\n",
              "    <path d=\"M0 0h24v24H0V0z\" fill=\"none\"/>\n",
              "    <path d=\"M18.56 5.44l.94 2.06.94-2.06 2.06-.94-2.06-.94-.94-2.06-.94 2.06-2.06.94zm-11 1L8.5 8.5l.94-2.06 2.06-.94-2.06-.94L8.5 2.5l-.94 2.06-2.06.94zm10 10l.94 2.06.94-2.06 2.06-.94-2.06-.94-.94-2.06-.94 2.06-2.06.94z\"/><path d=\"M17.41 7.96l-1.37-1.37c-.4-.4-.92-.59-1.43-.59-.52 0-1.04.2-1.43.59L10.3 9.45l-7.72 7.72c-.78.78-.78 2.05 0 2.83L4 21.41c.39.39.9.59 1.41.59.51 0 1.02-.2 1.41-.59l7.78-7.78 2.81-2.81c.8-.78.8-2.07 0-2.86zM5.41 20L4 18.59l7.72-7.72 1.47 1.35L5.41 20z\"/>\n",
              "  </svg>\n",
              "      </button>\n",
              "      \n",
              "  <style>\n",
              "    .colab-df-container {\n",
              "      display:flex;\n",
              "      flex-wrap:wrap;\n",
              "      gap: 12px;\n",
              "    }\n",
              "\n",
              "    .colab-df-convert {\n",
              "      background-color: #E8F0FE;\n",
              "      border: none;\n",
              "      border-radius: 50%;\n",
              "      cursor: pointer;\n",
              "      display: none;\n",
              "      fill: #1967D2;\n",
              "      height: 32px;\n",
              "      padding: 0 0 0 0;\n",
              "      width: 32px;\n",
              "    }\n",
              "\n",
              "    .colab-df-convert:hover {\n",
              "      background-color: #E2EBFA;\n",
              "      box-shadow: 0px 1px 2px rgba(60, 64, 67, 0.3), 0px 1px 3px 1px rgba(60, 64, 67, 0.15);\n",
              "      fill: #174EA6;\n",
              "    }\n",
              "\n",
              "    [theme=dark] .colab-df-convert {\n",
              "      background-color: #3B4455;\n",
              "      fill: #D2E3FC;\n",
              "    }\n",
              "\n",
              "    [theme=dark] .colab-df-convert:hover {\n",
              "      background-color: #434B5C;\n",
              "      box-shadow: 0px 1px 3px 1px rgba(0, 0, 0, 0.15);\n",
              "      filter: drop-shadow(0px 1px 2px rgba(0, 0, 0, 0.3));\n",
              "      fill: #FFFFFF;\n",
              "    }\n",
              "  </style>\n",
              "\n",
              "      <script>\n",
              "        const buttonEl =\n",
              "          document.querySelector('#df-35fcd3cb-6dd1-458a-9854-f0113bfb9349 button.colab-df-convert');\n",
              "        buttonEl.style.display =\n",
              "          google.colab.kernel.accessAllowed ? 'block' : 'none';\n",
              "\n",
              "        async function convertToInteractive(key) {\n",
              "          const element = document.querySelector('#df-35fcd3cb-6dd1-458a-9854-f0113bfb9349');\n",
              "          const dataTable =\n",
              "            await google.colab.kernel.invokeFunction('convertToInteractive',\n",
              "                                                     [key], {});\n",
              "          if (!dataTable) return;\n",
              "\n",
              "          const docLinkHtml = 'Like what you see? Visit the ' +\n",
              "            '<a target=\"_blank\" href=https://colab.research.google.com/notebooks/data_table.ipynb>data table notebook</a>'\n",
              "            + ' to learn more about interactive tables.';\n",
              "          element.innerHTML = '';\n",
              "          dataTable['output_type'] = 'display_data';\n",
              "          await google.colab.output.renderOutput(dataTable, element);\n",
              "          const docLink = document.createElement('div');\n",
              "          docLink.innerHTML = docLinkHtml;\n",
              "          element.appendChild(docLink);\n",
              "        }\n",
              "      </script>\n",
              "    </div>\n",
              "  </div>\n",
              "  "
            ]
          },
          "metadata": {},
          "execution_count": 128
        }
      ],
      "source": [
        "df_cars[df_cars['Cylinders'] == '.']"
      ]
    },
    {
      "cell_type": "code",
      "execution_count": null,
      "metadata": {
        "colab": {
          "base_uri": "https://localhost:8080/",
          "height": 282
        },
        "id": "5xbxiTgGthTa",
        "outputId": "695bcff3-f62f-42f1-a747-8113e1d6cfe7"
      },
      "outputs": [
        {
          "output_type": "execute_result",
          "data": {
            "text/plain": [
              "<matplotlib.axes._subplots.AxesSubplot at 0x7f14c1f9c700>"
            ]
          },
          "metadata": {},
          "execution_count": 129
        },
        {
          "output_type": "display_data",
          "data": {
            "text/plain": [
              "<Figure size 432x288 with 1 Axes>"
            ],
            "image/png": "[encoded data removed]"
          },
          "metadata": {
            "needs_background": "light"
          }
        }
      ],
      "source": [
        "df_cars['Horsepower'].hist()"
      ]
    },
    {
      "cell_type": "markdown",
      "metadata": {
        "id": "7Ng1iVb0CFZN"
      },
      "source": [
        "##Parsing"
      ]
    },
    {
      "cell_type": "markdown",
      "metadata": {
        "id": "XPsui-XUEDv3"
      },
      "source": [
        "###dns-shop"
      ]
    },
    {
      "cell_type": "code",
      "execution_count": null,
      "metadata": {
        "id": "yUnRVOxHgs8c"
      },
      "outputs": [],
      "source": [
        "import requests\n",
        "from bs4 import BeautifulSoup as BS"
      ]
    },
    {
      "cell_type": "code",
      "execution_count": null,
      "metadata": {
        "id": "JHpOQSo5HaaL"
      },
      "outputs": [],
      "source": [
        "%%bash\n",
        "apt update &> /dev/null\n",
        "apt install chromium-chromedriver &> /dev/null\n",
        "pip install selenium &> /dev/null"
      ]
    },
    {
      "cell_type": "code",
      "execution_count": null,
      "metadata": {
        "id": "IheE0GRKI5dj"
      },
      "outputs": [],
      "source": [
        "from selenium import webdriver\n",
        "from selenium.webdriver.common.by import By\n",
        "from IPython.display import Image\n",
        "from IPython.display import HTML\n",
        "import pandas as pd"
      ]
    },
    {
      "cell_type": "code",
      "execution_count": null,
      "metadata": {
        "id": "6Kv5ZSA7JKC-"
      },
      "outputs": [],
      "source": [
        "options = webdriver.ChromeOptions()\n",
        "options.add_argument('--headless')\n",
        "options.add_argument('--no-sandbox')\n",
        "options.add_argument('user-agent=Mozilla/5.0 (Linux; Android 6.0; Nexus 5 Build/MRA58N) AppleWebKit/537.36 (KHTML, like Gecko) Chrome/95.0.4638.69 Mobile Safari/537.36')\n",
        "options.add_argument('window-size=1400,600')\n",
        "wd = webdriver.Chrome(options=options)"
      ]
    },
    {
      "cell_type": "code",
      "execution_count": null,
      "metadata": {
        "id": "9fJcFvjOleFM"
      },
      "outputs": [],
      "source": [
        "name = []\n",
        "href = []\n",
        "price = []\n",
        "for p in range(1, 3):\n",
        "  wd.get('https://www.dns-shop.ru/catalog/17a8a01d16404e77/smartfony/?order=2&stock=now&p={}'.format(p))\n",
        "  web_el = wd.find_elements(By.CLASS_NAME, 'catalog-product__name')\n",
        "  href += [i.get_attribute('href') for i in web_el]\n",
        "  web_el = [i.text for i in web_el]\n",
        "  name += list(map(lambda x: x.split(' [')[0].replace('\"Как новый\" ', ''), web_el))\n",
        "  price += [i.text.split('\\n')[0] for i in wd.find_elements(By.CLASS_NAME, 'product-buy__price')]\n",
        "\n",
        "pd.DataFrame({'Название': name[:31], 'Цена': price[:31], 'Ссылка': href[:31]}).to_html('dns_mobile_first_page.html', render_links=True)\n",
        "HTML('dns_mobile_first_page.html')"
      ]
    },
    {
      "cell_type": "markdown",
      "metadata": {
        "id": "-lTZv1J5HrSZ"
      },
      "source": [
        "###selenium"
      ]
    },
    {
      "cell_type": "code",
      "execution_count": null,
      "metadata": {
        "id": "5S70JeyHCrG7"
      },
      "outputs": [],
      "source": [
        "# for i in group[0]:\n",
        "#   if inp in i.lower():\n",
        "#     teach = i\n",
        "#     form = wd.find_elements(By.ID, 'group')[0]\n",
        "#     form.send_keys(i)\n",
        "#     click = wd.find_elements(By.NAME, 'stt')[0]\n",
        "#     click.click()\n",
        "#     sh = wd.find_elements(By.TAG_NAME, 'p')\n",
        "#     data = wd.find_elements(By.TAG_NAME, 'b')\n",
        "#     txt = list(map(lambda x: x.text, sh))"
      ]
    },
    {
      "cell_type": "code",
      "execution_count": null,
      "metadata": {
        "id": "hdi_woLme1g8"
      },
      "outputs": [],
      "source": [
        "wd.get('https://www.dns-shop.ru/catalog/17a892f816404e77/noutbuki/?brand=apple')"
      ]
    },
    {
      "cell_type": "code",
      "execution_count": null,
      "metadata": {
        "id": "V_95bMatLeTF"
      },
      "outputs": [],
      "source": [
        "names = wd.find_elements(By.CLASS_NAME, 'catalog-product__name')"
      ]
    },
    {
      "cell_type": "code",
      "execution_count": null,
      "metadata": {
        "id": "5fQacdjiSzZL"
      },
      "outputs": [],
      "source": [
        "price = [i.text for i in wd.find_elements(By.CLASS_NAME, 'product-buy__price')]"
      ]
    },
    {
      "cell_type": "code",
      "execution_count": null,
      "metadata": {
        "id": "ZDa6T5sbMMN6"
      },
      "outputs": [],
      "source": [
        "links_clear = [i.get_attribute('href') for i in names]"
      ]
    },
    {
      "cell_type": "code",
      "execution_count": null,
      "metadata": {
        "id": "DrBxV82nOVYb"
      },
      "outputs": [],
      "source": [
        "names_clear = [i.text for i in names]"
      ]
    },
    {
      "cell_type": "code",
      "execution_count": null,
      "metadata": {
        "id": "d3F9JUytOjQh"
      },
      "outputs": [],
      "source": [
        "active_price = [int(i.split('₽')[0].strip().replace(' ', '')) for i in price]"
      ]
    },
    {
      "cell_type": "code",
      "execution_count": null,
      "metadata": {
        "id": "H7aXkGIePodn"
      },
      "outputs": [],
      "source": [
        "df = pd.DataFrame({\n",
        "      'Название': names_clear,\n",
        "      'Ссылка': links_clear,\n",
        "      'Актуальная цена': active_price,\n",
        "})"
      ]
    },
    {
      "cell_type": "code",
      "execution_count": null,
      "metadata": {
        "id": "9tDJDyJfPoxA"
      },
      "outputs": [],
      "source": [
        "df.to_html('dns_apple_first_page.html', render_links=True)"
      ]
    },
    {
      "cell_type": "code",
      "execution_count": null,
      "metadata": {
        "id": "0EgHiVyDSBM_"
      },
      "outputs": [],
      "source": [
        "HTML('dns_apple_first_page.html')"
      ]
    },
    {
      "cell_type": "code",
      "source": [
        "https://colab.research.google.com/drive/1yz5Ik2BJTMcAhXu9OcOKvIiM8RZhKIax#scrollTo=TURuHS4wO_1y"
      ],
      "metadata": {
        "id": "MhvDx3-zZZio"
      },
      "execution_count": null,
      "outputs": []
    },
    {
      "cell_type": "markdown",
      "metadata": {
        "id": "cBhEJeoTELIw"
      },
      "source": [
        "#Численные методы"
      ]
    },
    {
      "cell_type": "code",
      "source": [],
      "metadata": {
        "id": "2y_gTY7EXhXs"
      },
      "execution_count": null,
      "outputs": []
    },
    {
      "cell_type": "code",
      "execution_count": null,
      "metadata": {
        "id": "O-J1GJVEiJsu"
      },
      "outputs": [],
      "source": [
        "# Метод хорд\n",
        "a, b = 0, 1\n",
        "i = 0\n",
        "\n",
        "\n",
        "def f(x):\n",
        "  return x ** 3 + 3 * x ** 2 - 2\n",
        "\n",
        "\n",
        "while abs(f(c)) > 0.01:\n",
        "  i += 1\n",
        "  c = a - ((b - a) * f(a)) / (f(b) - f(a))\n",
        "  if f(a) * f(c) < 0:\n",
        "    b = c\n",
        "  else:\n",
        "    a = c\n",
        "  print(f'№ {i}\\nx = {c}\\n[{a}; {b}]\\n')"
      ]
    },
    {
      "cell_type": "code",
      "execution_count": null,
      "metadata": {
        "id": "znoQfrGKR_rw",
        "colab": {
          "base_uri": "https://localhost:8080/"
        },
        "outputId": "6e5b7cc0-a5ee-4798-fa9f-62f0316478ee"
      },
      "outputs": [
        {
          "output_type": "stream",
          "name": "stdout",
          "text": [
            "№ 1\n",
            "x = 7/9\n",
            "\n",
            "№ 2\n",
            "x = 3467/4725\n",
            "\n",
            "№ 3\n",
            "x = 464709214951/634802412825\n",
            "\n"
          ]
        }
      ],
      "source": [
        "# Метод касательных\n",
        "from sympy import Derivative\n",
        "from sympy.abc import x\n",
        "a, b = 0, 1\n",
        "func = x ** 3 + 3 * x ** 2 - 2\n",
        "\n",
        "\n",
        "def d(cp):\n",
        "  return Derivative(cp, x, evaluate=True)\n",
        "\n",
        "\n",
        "def f(n):\n",
        "  return func.subs(x, n)\n",
        "\n",
        "\n",
        "def f1(n):\n",
        "  return d(func).subs(x, n)\n",
        "\n",
        "\n",
        "def f2(n):\n",
        "  return d(d(func)).subs(x, n)\n",
        "\n",
        "\n",
        "c = a if f(a) * f2(a) > f(b) * f2(b) else b\n",
        "i = 0\n",
        "while abs(f(c)) > 0.01:\n",
        "  i += 1\n",
        "  c = c - f(c) / f1(c)\n",
        "  if f(a) * f(c) > 0:\n",
        "    a = c\n",
        "  else:\n",
        "    b = c\n",
        "  print(f'№ {i}\\nx = {c}\\n')"
      ]
    },
    {
      "cell_type": "code",
      "source": [],
      "metadata": {
        "id": "GxGZEVznYI8S"
      },
      "execution_count": null,
      "outputs": []
    },
    {
      "cell_type": "code",
      "execution_count": null,
      "metadata": {
        "id": "VgtOXXvtO-qd"
      },
      "outputs": [],
      "source": [
        "# Система уравнений\n",
        "x1, x2, x3 = 4 / 3, 9 / -1, 3 / 2\n",
        "e = 0.01\n",
        "i = 0\n",
        "\n",
        "\n",
        "def f1():\n",
        "  return (4 - 2 * x2 - 1 * x3) / 3\n",
        "\n",
        "\n",
        "def f2():\n",
        "  return (9 - 2 * x1 + 3 * x3) / -1\n",
        "\n",
        "\n",
        "def f3():\n",
        "  return (3 - 1 * x1 - 2 * x2) / 2\n",
        "\n",
        "\n",
        "print(f'№ 0(begin)\\nx1 = {x1}\\nx2 = {x2}\\nx3 = {x3}\\n')\n",
        "while not (abs(x1 - f1()) < e and abs(x2 - f2()) < e \\\n",
        "           and abs(x3 - f3()) < e):\n",
        "  i += 1\n",
        "  x1 = f1()\n",
        "  x2 = f2()\n",
        "  x3 = f3()\n",
        "  print(f'№ {i}\\nx1 = {x1}\\nx2 = {x2}\\nx3 = {x3}\\n')\n",
        "  if i > 5:\n",
        "    break\n",
        "x1 = f1()\n",
        "x2 = f2()\n",
        "x3 = f3()\n",
        "print(f'№ {i+1}(end)\\nx1 = {x1}\\nx2 = {x2}\\nx3 = {x3}\\n')"
      ]
    },
    {
      "cell_type": "code",
      "execution_count": null,
      "metadata": {
        "id": "bv2wxSBXJwf8",
        "colab": {
          "base_uri": "https://localhost:8080/"
        },
        "outputId": "a26393ce-231e-4f89-a325-d373aec41ce1"
      },
      "outputs": [
        {
          "output_type": "stream",
          "name": "stdout",
          "text": [
            "0.6168257181453092\n"
          ]
        }
      ],
      "source": [
        "# Метод левых прямоугольников\n",
        "a, b = 0, 0.5\n",
        "n = 5\n",
        "h = (b - a) / n\n",
        "\n",
        "\n",
        "def f(x):\n",
        "  return 2.71828 ** x\n",
        "\n",
        "\n",
        "print(h * sum([f(a + h * i) for i in range(n)]))"
      ]
    },
    {
      "cell_type": "code",
      "execution_count": null,
      "metadata": {
        "id": "fMEIFl-TMKUA",
        "colab": {
          "base_uri": "https://localhost:8080/"
        },
        "outputId": "ce7818e0-7813-4eed-f76d-812a6b846fa9"
      },
      "outputs": [
        {
          "output_type": "stream",
          "name": "stdout",
          "text": [
            "0.681697845215322\n"
          ]
        }
      ],
      "source": [
        "# Метод правых прямоугольников\n",
        "a, b = 0, 0.5\n",
        "n = 5\n",
        "h = (b - a) / n\n",
        "\n",
        "\n",
        "def f(x):\n",
        "  return 2.71828 ** x\n",
        "\n",
        "\n",
        "print(h * sum([f(a + h * i) for i in range(1, n + 1)]))"
      ]
    },
    {
      "cell_type": "code",
      "execution_count": null,
      "metadata": {
        "id": "1sjxLjK5MSvZ",
        "colab": {
          "base_uri": "https://localhost:8080/"
        },
        "outputId": "14ee0367-1b5f-4c56-932a-d86bd750aa66"
      },
      "outputs": [
        {
          "output_type": "stream",
          "name": "stdout",
          "text": [
            "0.6484510489875475\n"
          ]
        }
      ],
      "source": [
        "# Метод средних прямоугольников\n",
        "a, b = 0, 0.5\n",
        "n = 5\n",
        "h = (b - a) / n\n",
        "s = 0\n",
        "\n",
        "\n",
        "def f(x):\n",
        "  return 2.71828 ** x\n",
        "\n",
        "\n",
        "print(h * sum([f(((a + h * i) + (a + h * (i + 1))) / 2) \\\n",
        "               for i in range(n)]))"
      ]
    },
    {
      "cell_type": "code",
      "execution_count": null,
      "metadata": {
        "id": "qlX6Ox8mM6up",
        "colab": {
          "base_uri": "https://localhost:8080/"
        },
        "outputId": "b77e35e3-43c0-4d64-e9c6-27eaa735e281"
      },
      "outputs": [
        {
          "output_type": "stream",
          "name": "stdout",
          "text": [
            "33.7716147244099\n"
          ]
        }
      ],
      "source": [
        "# Метод трапеций\n",
        "from sympy import *\n",
        "from sympy.abc import x\n",
        "a, b = -3, 0\n",
        "n = 6\n",
        "h = (b - a) / n\n",
        "s = 0\n",
        "func = 3 * x ** 2 + 1 + (x + 3) ** 0.5\n",
        "\n",
        "\n",
        "def f(n):\n",
        "  return func.subs(x, n)\n",
        "\n",
        "\n",
        "print((h / 2) * (f(a) + f(b)) + h * sum([f(a + h * i) \\\n",
        "                                         for i in range(1, n)]))"
      ]
    },
    {
      "cell_type": "code",
      "execution_count": null,
      "metadata": {
        "colab": {
          "base_uri": "https://localhost:8080/"
        },
        "id": "wX0ehVDqwUxr",
        "outputId": "1fffe1f8-1df8-4c3c-ca1a-9edc977f4e3a"
      },
      "outputs": [
        {
          "output_type": "stream",
          "name": "stdout",
          "text": [
            "45.4354066438274\n"
          ]
        }
      ],
      "source": [
        "# Метод Симпсона\n",
        "a, b = 0, 3\n",
        "n = 6\n",
        "\n",
        "h = (b - a) / n\n",
        "s1, s2 = 0, 0\n",
        "func = 5 * x ** 2 - 1 + x ** 0.5\n",
        "\n",
        "\n",
        "def f(n):\n",
        "  return func.subs(x, n)\n",
        "\n",
        "\n",
        "for i in range(1, n):\n",
        "  if i % 2:\n",
        "    s1 += f(a + h * i)\n",
        "  else:\n",
        "    s2 += f(a + h * i)\n",
        "print((h / 3) * (f(a) + f(b)) + 4 * h / 3 * s1 + 2 * h / 3 * s2)"
      ]
    },
    {
      "cell_type": "code",
      "execution_count": null,
      "metadata": {
        "colab": {
          "base_uri": "https://localhost:8080/"
        },
        "id": "i-xkmWw3gxyZ",
        "outputId": "b11c5360-40db-48a0-b843-5bbee8bfc56b"
      },
      "outputs": [
        {
          "output_type": "stream",
          "name": "stdout",
          "text": [
            "45.4477310387462\n"
          ]
        }
      ],
      "source": [
        "# Метод Ньютона-Котеса\n",
        "a, b = 0, 3\n",
        "n = 2\n",
        "k = 4\n",
        "func = 5 * x ** 2 - 1 + x ** 0.5\n",
        "\n",
        "\n",
        "def f(n):\n",
        "  return func.subs(x, n)\n",
        "\n",
        "\n",
        "if k == 1:\n",
        "  h = [1/2, 1/2]\n",
        "elif k == 2:\n",
        "  h = [1/6, 2/3, 1/6]\n",
        "elif k == 3:\n",
        "  h = [1/8, 3/8, 3/8, 1/8]\n",
        "elif k == 4:\n",
        "  h = [7/90, 16/45, 2/15, 16/45, 7/90]\n",
        "elif k == 5:\n",
        "  h = [19/288, 25/96, 25/144, 25/144, 25/96, 19/288]\n",
        "\n",
        "\n",
        "def main(a1, b1):\n",
        "  return (b1-a1) * sum([f(a1+(b1-a1)/k*i) * h[i] for i in range(k + 1)])\n",
        "\n",
        "d = (b - a) / n\n",
        "lst = [main(a + d * i, a + d * (i + 1)) for i in range(n)]\n",
        "print(sum(lst))"
      ]
    },
    {
      "cell_type": "code",
      "execution_count": null,
      "metadata": {
        "id": "wwHX-3Ouo6kO"
      },
      "outputs": [],
      "source": [
        "# Метод Лангранжа\n",
        "x = 2.08\n",
        "h = 0.02\n",
        "\n",
        "\n",
        "def f(y):\n",
        "  return y ** 4 + 2\n",
        "\n",
        "\n",
        "print(f'f(n+1) = {f(x+h)}\\nf(n-1) = {f(x-h)}\\nf` = \\\n",
        "{(f(x+h) - f(x-h)) / (h * 2)}\\n')\n",
        "print(f'f(n+2) = {f(x+h*2)}\\nf(n-2) = {f(x-h*2)}\\nf(n) = {f(x)}\\n'\n",
        "f'f`` = {(f(x+h*2)-2*f(x)+f(x-h*2)) / (h*2)**2}')"
      ]
    },
    {
      "cell_type": "code",
      "execution_count": null,
      "metadata": {
        "id": "A25MeQuD5M2C",
        "colab": {
          "base_uri": "https://localhost:8080/"
        },
        "outputId": "f4ad3298-35aa-4fc9-d247-9a3bfcdb5431"
      },
      "outputs": [
        {
          "output_type": "stream",
          "name": "stdout",
          "text": [
            "0.12639380474397807\n"
          ]
        }
      ],
      "source": [
        "# Интерполяция\n",
        "lst_x = [0.219, 0.811, 1.341]\n",
        "lst_y = [-2.151, -0.452, 1.214]\n",
        "x = 1\n",
        "n = len(lst_x)\n",
        "s = 0\n",
        "\n",
        "for j in range(n):\n",
        "  a, b = 1, 1\n",
        "  for i in range(n):\n",
        "    if lst_x[j] != lst_x[i]:\n",
        "      a *= x - lst_x[i]\n",
        "  for v in range(n):\n",
        "    if lst_x[j] != lst_x[v]:\n",
        "      b *= lst_x[j] - lst_x[v]\n",
        "  s += lst_y[j] * a / b\n",
        "print(s)"
      ]
    },
    {
      "cell_type": "code",
      "source": [
        "# Интерполяционный многочлен Лангранжа \n",
        "lst_x = [0.134, 0.561, 1.341, 2.291, 6.913]\n",
        "lst_y = [2.156, 3.348, 3.611, 4.112, 4.171]\n",
        "lst = []\n",
        "n = len(lst_x)\n",
        "\n",
        "for j in range(n):\n",
        "  b = 1\n",
        "  for v in range(n):\n",
        "    if lst_x[j] != lst_x[v]:\n",
        "      b *= lst_x[j] - lst_x[v]\n",
        "  L = [f\"(x - {lst_x[i]})\" for i in range(n) if lst_x[j] != lst_x[i]]\n",
        "  lst.append((f'{lst_y[j] * (1 / b)} * (', L))\n",
        "\n",
        "for i in lst:\n",
        "  print(i[0], end='')\n",
        "  print(*i[1], sep=' * ', end=')\\n')"
      ],
      "metadata": {
        "id": "JKwoNPKxuk74",
        "colab": {
          "base_uri": "https://localhost:8080/"
        },
        "outputId": "89f12cd7-88de-4b46-ddcb-c5a8304b6e8a"
      },
      "execution_count": null,
      "outputs": [
        {
          "output_type": "stream",
          "name": "stdout",
          "text": [
            "0.286086808163074 * ((x - 0.561) * (x - 1.341) * (x - 2.291) * (x - 6.913))\n",
            "-0.9147583428393664 * ((x - 0.134) * (x - 1.341) * (x - 2.291) * (x - 6.913))\n",
            "0.7245876083370145 * ((x - 0.134) * (x - 0.561) * (x - 2.291) * (x - 6.913))\n",
            "-0.25095930982863374 * ((x - 0.134) * (x - 0.561) * (x - 1.341) * (x - 6.913))\n",
            "0.0037611704694782 * ((x - 0.134) * (x - 0.561) * (x - 1.341) * (x - 2.291))\n"
          ]
        }
      ]
    },
    {
      "cell_type": "code",
      "source": [
        "# Метод Эйлера\n",
        "a, b = 0, 1\n",
        "y = [1]\n",
        "h = 0.5\n",
        "n = int((b - a) / h)\n",
        "\n",
        "\n",
        "def f(x, j):\n",
        "  return 2 * x ** 2 + 2 * j\n",
        "\n",
        "\n",
        "for i in range(n):\n",
        "  y.append(round(y[i] + h * f(a + h * i, y[i]), 5))\n",
        "  print(i+1, y[-1])\n",
        "print()\n",
        "\n",
        "for i in range(n):\n",
        "  y.append(round(y[i] + h/2 *\n",
        "                 (f(a+h*i, y[i]) + f(a+h * (i+1), y[i+1])), 5))\n",
        "  print(i+1, y[-1])"
      ],
      "metadata": {
        "colab": {
          "base_uri": "https://localhost:8080/"
        },
        "id": "W-7JJz0n57ux",
        "outputId": "1e87ed6c-7cab-4ccc-fc4f-b583d5557412"
      },
      "execution_count": null,
      "outputs": [
        {
          "output_type": "stream",
          "name": "stdout",
          "text": [
            "1 2.0\n",
            "2 4.25\n",
            "\n",
            "1 2.625\n",
            "2 5.75\n"
          ]
        }
      ]
    },
    {
      "cell_type": "code",
      "source": [
        "# Метод Рунги-Кутта\n",
        "a, b = -2, -1\n",
        "h = 0.5\n",
        "d = {0: 0}\n",
        "n = int((b - a) / h)\n",
        "\n",
        "\n",
        "def f(x, y):\n",
        "  return x + y ** 2\n",
        "\n",
        "\n",
        "for i in range(n):\n",
        "  k1 = h * f(a + h * i, d[i])\n",
        "  k2 = h * f((a + h * i) + h / 2, d[i] + k1 / 2)\n",
        "  k3 = h * f((a + h * i) + h / 2, d[i] + k2 / 2)\n",
        "  k4 = h * f((a + h * i) + h, d[i] + k3)\n",
        "  d[i + 1] = d[i] + (k1 + 2 * k2 + 2 * k3 + k4) / 6\n",
        "  print(f'{i+1}:\\nk1 = {k1}\\nk2 = {k2}\\nk3 = {k3}\\nk4 = {k4}')\n",
        "  print(f'y{i+1} = {d[i+1]}\\n')"
      ],
      "metadata": {
        "colab": {
          "base_uri": "https://localhost:8080/"
        },
        "id": "_yMQSZNfL1Ch",
        "outputId": "977b63f5-81ef-403e-8988-d0138c36de5e"
      },
      "execution_count": null,
      "outputs": [
        {
          "output_type": "stream",
          "name": "stdout",
          "text": [
            "1:\n",
            "k1 = -1.0\n",
            "k2 = -0.75\n",
            "k3 = -0.8046875\n",
            "k4 = -0.426239013671875\n",
            "y1 = -0.7559356689453125\n",
            "\n",
            "2:\n",
            "k1 = -0.46428063220810145\n",
            "k2 = -0.13685292388436526\n",
            "k3 = -0.2852135385793142\n",
            "k4 = 0.04199583616457914\n",
            "y2 = -0.967005289107126\n",
            "\n"
          ]
        }
      ]
    },
    {
      "cell_type": "code",
      "source": [],
      "metadata": {
        "id": "TMEBvYeMZQNk"
      },
      "execution_count": null,
      "outputs": []
    }
  ],
  "metadata": {
    "colab": {
      "collapsed_sections": [
        "aBYv0j6JqTx8",
        "3vlEscoHBjfa",
        "Oculx1WoH1qn",
        "JN_DtTBHCLLR",
        "tR2d1uHMCXPo",
        "LyEK5tRVIhiK",
        "7Ng1iVb0CFZN",
        "XPsui-XUEDv3",
        "-lTZv1J5HrSZ",
        "cBhEJeoTELIw"
      ],
      "provenance": [],
      "authorship_tag": "ABX9TyNYzwvmw0h7jTyWPHIoQv8w"
    },
    "kernelspec": {
      "display_name": "Python 3",
      "name": "python3"
    },
    "language_info": {
      "name": "python"
    }
  },
  "nbformat": 4,
  "nbformat_minor": 0
}